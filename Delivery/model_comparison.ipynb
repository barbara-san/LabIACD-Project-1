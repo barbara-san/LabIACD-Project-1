{
 "cells": [
  {
   "cell_type": "markdown",
   "metadata": {},
   "source": [
    "# Model Statistical Analysis and Comparison\n",
    "\n",
    "### Introduction\n",
    "\n",
    "This document outlines the comparison of the performance of our models using a Wilcoxon Hypothesis Test. The primary objective is to determine if the models are statistically different in terms of their performance on a given metric and to choose the one with the best performance.\n",
    "\n",
    "### Libraries and Data Loading\n",
    "\n",
    "The process begins with the importation of relevant libraries and the loading of our dataset."
   ]
  },
  {
   "cell_type": "code",
   "execution_count": 12,
   "metadata": {},
   "outputs": [],
   "source": [
    "from kfold_and_metrics import *\n",
    "\n",
    "from xgboost import XGBClassifier\n",
    "from sklearn.ensemble import RandomForestClassifier\n",
    "import tensorflow as tf\n",
    "tf.keras.backend.clear_session()\n",
    "\n",
    "import pandas as pd\n",
    "import scipy.stats as ss"
   ]
  },
  {
   "cell_type": "code",
   "execution_count": 13,
   "metadata": {},
   "outputs": [
    {
     "name": "stdout",
     "output_type": "stream",
     "text": [
      "(2948, 1132)\n"
     ]
    },
    {
     "data": {
      "text/html": [
       "<div>\n",
       "<style scoped>\n",
       "    .dataframe tbody tr th:only-of-type {\n",
       "        vertical-align: middle;\n",
       "    }\n",
       "\n",
       "    .dataframe tbody tr th {\n",
       "        vertical-align: top;\n",
       "    }\n",
       "\n",
       "    .dataframe thead th {\n",
       "        text-align: right;\n",
       "    }\n",
       "</style>\n",
       "<table border=\"1\" class=\"dataframe\">\n",
       "  <thead>\n",
       "    <tr style=\"text-align: right;\">\n",
       "      <th></th>\n",
       "      <th>patient_id</th>\n",
       "      <th>diagnostics_Image-original_Mean</th>\n",
       "      <th>diagnostics_Mask-original_VoxelNum</th>\n",
       "      <th>diagnostics_Mask-original_VolumeNum</th>\n",
       "      <th>diagnostics_Image-interpolated_Mean</th>\n",
       "      <th>diagnostics_Image-interpolated_Minimum</th>\n",
       "      <th>diagnostics_Image-interpolated_Maximum</th>\n",
       "      <th>diagnostics_Mask-interpolated_VoxelNum</th>\n",
       "      <th>diagnostics_Mask-interpolated_VolumeNum</th>\n",
       "      <th>diagnostics_Mask-interpolated_Maximum</th>\n",
       "      <th>...</th>\n",
       "      <th>diagnostics_Mask-interpolated_BoundingBox_2</th>\n",
       "      <th>diagnostics_Mask-interpolated_BoundingBox_3</th>\n",
       "      <th>diagnostics_Mask-interpolated_BoundingBox_4</th>\n",
       "      <th>diagnostics_Mask-interpolated_BoundingBox_5</th>\n",
       "      <th>diagnostics_Mask-interpolated_CenterOfMassIndex_0</th>\n",
       "      <th>diagnostics_Mask-interpolated_CenterOfMassIndex_1</th>\n",
       "      <th>diagnostics_Mask-interpolated_CenterOfMassIndex_2</th>\n",
       "      <th>diagnostics_Mask-interpolated_CenterOfMass_0</th>\n",
       "      <th>diagnostics_Mask-interpolated_CenterOfMass_1</th>\n",
       "      <th>diagnostics_Mask-interpolated_CenterOfMass_2</th>\n",
       "    </tr>\n",
       "  </thead>\n",
       "  <tbody>\n",
       "    <tr>\n",
       "      <th>0</th>\n",
       "      <td>LIDC-IDRI-0001</td>\n",
       "      <td>-826.943929</td>\n",
       "      <td>5905</td>\n",
       "      <td>1</td>\n",
       "      <td>-417.494203</td>\n",
       "      <td>-990.291016</td>\n",
       "      <td>1038.270874</td>\n",
       "      <td>909</td>\n",
       "      <td>2</td>\n",
       "      <td>237.087921</td>\n",
       "      <td>...</td>\n",
       "      <td>0.0</td>\n",
       "      <td>13.0</td>\n",
       "      <td>11.0</td>\n",
       "      <td>10.0</td>\n",
       "      <td>17.041265</td>\n",
       "      <td>16.108666</td>\n",
       "      <td>4.184319</td>\n",
       "      <td>128.652843</td>\n",
       "      <td>34.787644</td>\n",
       "      <td>-229.881362</td>\n",
       "    </tr>\n",
       "    <tr>\n",
       "      <th>1</th>\n",
       "      <td>LIDC-IDRI-0001</td>\n",
       "      <td>-826.943929</td>\n",
       "      <td>4613</td>\n",
       "      <td>1</td>\n",
       "      <td>-405.581777</td>\n",
       "      <td>-982.456726</td>\n",
       "      <td>949.768005</td>\n",
       "      <td>699</td>\n",
       "      <td>1</td>\n",
       "      <td>221.953705</td>\n",
       "      <td>...</td>\n",
       "      <td>0.0</td>\n",
       "      <td>13.0</td>\n",
       "      <td>11.0</td>\n",
       "      <td>10.0</td>\n",
       "      <td>17.041265</td>\n",
       "      <td>16.108666</td>\n",
       "      <td>4.184319</td>\n",
       "      <td>128.652843</td>\n",
       "      <td>34.787644</td>\n",
       "      <td>-229.881362</td>\n",
       "    </tr>\n",
       "    <tr>\n",
       "      <th>2</th>\n",
       "      <td>LIDC-IDRI-0001</td>\n",
       "      <td>-826.943929</td>\n",
       "      <td>4955</td>\n",
       "      <td>1</td>\n",
       "      <td>-410.236759</td>\n",
       "      <td>-990.291016</td>\n",
       "      <td>1038.270874</td>\n",
       "      <td>772</td>\n",
       "      <td>1</td>\n",
       "      <td>237.087921</td>\n",
       "      <td>...</td>\n",
       "      <td>0.0</td>\n",
       "      <td>13.0</td>\n",
       "      <td>11.0</td>\n",
       "      <td>10.0</td>\n",
       "      <td>17.041265</td>\n",
       "      <td>16.108666</td>\n",
       "      <td>4.184319</td>\n",
       "      <td>128.652843</td>\n",
       "      <td>34.787644</td>\n",
       "      <td>-229.881362</td>\n",
       "    </tr>\n",
       "    <tr>\n",
       "      <th>3</th>\n",
       "      <td>LIDC-IDRI-0001</td>\n",
       "      <td>-826.943929</td>\n",
       "      <td>5498</td>\n",
       "      <td>1</td>\n",
       "      <td>-416.576321</td>\n",
       "      <td>-990.291016</td>\n",
       "      <td>1038.270874</td>\n",
       "      <td>841</td>\n",
       "      <td>2</td>\n",
       "      <td>237.087921</td>\n",
       "      <td>...</td>\n",
       "      <td>0.0</td>\n",
       "      <td>13.0</td>\n",
       "      <td>11.0</td>\n",
       "      <td>10.0</td>\n",
       "      <td>17.041265</td>\n",
       "      <td>16.108666</td>\n",
       "      <td>4.184319</td>\n",
       "      <td>128.652843</td>\n",
       "      <td>34.787644</td>\n",
       "      <td>-229.881362</td>\n",
       "    </tr>\n",
       "    <tr>\n",
       "      <th>4</th>\n",
       "      <td>LIDC-IDRI-0002</td>\n",
       "      <td>-826.943929</td>\n",
       "      <td>10351</td>\n",
       "      <td>1</td>\n",
       "      <td>-546.359139</td>\n",
       "      <td>-1007.657349</td>\n",
       "      <td>1020.174988</td>\n",
       "      <td>749</td>\n",
       "      <td>1</td>\n",
       "      <td>160.687653</td>\n",
       "      <td>...</td>\n",
       "      <td>0.0</td>\n",
       "      <td>13.0</td>\n",
       "      <td>11.0</td>\n",
       "      <td>10.0</td>\n",
       "      <td>17.041265</td>\n",
       "      <td>16.108666</td>\n",
       "      <td>4.184319</td>\n",
       "      <td>128.652843</td>\n",
       "      <td>34.787644</td>\n",
       "      <td>-229.881362</td>\n",
       "    </tr>\n",
       "  </tbody>\n",
       "</table>\n",
       "<p>5 rows × 1132 columns</p>\n",
       "</div>"
      ],
      "text/plain": [
       "       patient_id  diagnostics_Image-original_Mean  \\\n",
       "0  LIDC-IDRI-0001                      -826.943929   \n",
       "1  LIDC-IDRI-0001                      -826.943929   \n",
       "2  LIDC-IDRI-0001                      -826.943929   \n",
       "3  LIDC-IDRI-0001                      -826.943929   \n",
       "4  LIDC-IDRI-0002                      -826.943929   \n",
       "\n",
       "   diagnostics_Mask-original_VoxelNum  diagnostics_Mask-original_VolumeNum  \\\n",
       "0                                5905                                    1   \n",
       "1                                4613                                    1   \n",
       "2                                4955                                    1   \n",
       "3                                5498                                    1   \n",
       "4                               10351                                    1   \n",
       "\n",
       "   diagnostics_Image-interpolated_Mean  \\\n",
       "0                          -417.494203   \n",
       "1                          -405.581777   \n",
       "2                          -410.236759   \n",
       "3                          -416.576321   \n",
       "4                          -546.359139   \n",
       "\n",
       "   diagnostics_Image-interpolated_Minimum  \\\n",
       "0                             -990.291016   \n",
       "1                             -982.456726   \n",
       "2                             -990.291016   \n",
       "3                             -990.291016   \n",
       "4                            -1007.657349   \n",
       "\n",
       "   diagnostics_Image-interpolated_Maximum  \\\n",
       "0                             1038.270874   \n",
       "1                              949.768005   \n",
       "2                             1038.270874   \n",
       "3                             1038.270874   \n",
       "4                             1020.174988   \n",
       "\n",
       "   diagnostics_Mask-interpolated_VoxelNum  \\\n",
       "0                                     909   \n",
       "1                                     699   \n",
       "2                                     772   \n",
       "3                                     841   \n",
       "4                                     749   \n",
       "\n",
       "   diagnostics_Mask-interpolated_VolumeNum  \\\n",
       "0                                        2   \n",
       "1                                        1   \n",
       "2                                        1   \n",
       "3                                        2   \n",
       "4                                        1   \n",
       "\n",
       "   diagnostics_Mask-interpolated_Maximum  ...  \\\n",
       "0                             237.087921  ...   \n",
       "1                             221.953705  ...   \n",
       "2                             237.087921  ...   \n",
       "3                             237.087921  ...   \n",
       "4                             160.687653  ...   \n",
       "\n",
       "   diagnostics_Mask-interpolated_BoundingBox_2  \\\n",
       "0                                          0.0   \n",
       "1                                          0.0   \n",
       "2                                          0.0   \n",
       "3                                          0.0   \n",
       "4                                          0.0   \n",
       "\n",
       "   diagnostics_Mask-interpolated_BoundingBox_3  \\\n",
       "0                                         13.0   \n",
       "1                                         13.0   \n",
       "2                                         13.0   \n",
       "3                                         13.0   \n",
       "4                                         13.0   \n",
       "\n",
       "   diagnostics_Mask-interpolated_BoundingBox_4  \\\n",
       "0                                         11.0   \n",
       "1                                         11.0   \n",
       "2                                         11.0   \n",
       "3                                         11.0   \n",
       "4                                         11.0   \n",
       "\n",
       "   diagnostics_Mask-interpolated_BoundingBox_5  \\\n",
       "0                                         10.0   \n",
       "1                                         10.0   \n",
       "2                                         10.0   \n",
       "3                                         10.0   \n",
       "4                                         10.0   \n",
       "\n",
       "   diagnostics_Mask-interpolated_CenterOfMassIndex_0  \\\n",
       "0                                          17.041265   \n",
       "1                                          17.041265   \n",
       "2                                          17.041265   \n",
       "3                                          17.041265   \n",
       "4                                          17.041265   \n",
       "\n",
       "   diagnostics_Mask-interpolated_CenterOfMassIndex_1  \\\n",
       "0                                          16.108666   \n",
       "1                                          16.108666   \n",
       "2                                          16.108666   \n",
       "3                                          16.108666   \n",
       "4                                          16.108666   \n",
       "\n",
       "   diagnostics_Mask-interpolated_CenterOfMassIndex_2  \\\n",
       "0                                           4.184319   \n",
       "1                                           4.184319   \n",
       "2                                           4.184319   \n",
       "3                                           4.184319   \n",
       "4                                           4.184319   \n",
       "\n",
       "   diagnostics_Mask-interpolated_CenterOfMass_0  \\\n",
       "0                                    128.652843   \n",
       "1                                    128.652843   \n",
       "2                                    128.652843   \n",
       "3                                    128.652843   \n",
       "4                                    128.652843   \n",
       "\n",
       "   diagnostics_Mask-interpolated_CenterOfMass_1  \\\n",
       "0                                     34.787644   \n",
       "1                                     34.787644   \n",
       "2                                     34.787644   \n",
       "3                                     34.787644   \n",
       "4                                     34.787644   \n",
       "\n",
       "   diagnostics_Mask-interpolated_CenterOfMass_2  \n",
       "0                                   -229.881362  \n",
       "1                                   -229.881362  \n",
       "2                                   -229.881362  \n",
       "3                                   -229.881362  \n",
       "4                                   -229.881362  \n",
       "\n",
       "[5 rows x 1132 columns]"
      ]
     },
     "execution_count": 13,
     "metadata": {},
     "output_type": "execute_result"
    }
   ],
   "source": [
    "df = pd.read_csv(\"final.csv\")\n",
    "df = df.drop(columns=[\"id\"])\n",
    "print(df.shape)\n",
    "df.head()"
   ]
  },
  {
   "cell_type": "markdown",
   "metadata": {},
   "source": [
    "### Hyperparameters\n",
    "\n",
    "Hyperparameters play a crucial role in model performance. Here, we define the hyperparameters for each of our models based on the results of the hyperparameter tuning process."
   ]
  },
  {
   "cell_type": "code",
   "execution_count": 14,
   "metadata": {},
   "outputs": [],
   "source": [
    "rf_params = {\n",
    "    'n_estimators': 25,\n",
    "\t'max_depth': 25,\n",
    "\t'min_samples_leaf': 5,\n",
    "\t'criterion': \"log_loss\"\n",
    "}\n",
    "\n",
    "xgb_params = {\n",
    "    'n_estimators': 25,\n",
    "\t'max_depth': 5,\n",
    "\t'min_child_weight': 15\n",
    "}\n",
    "\n",
    "nn_params = {\n",
    "    'hidden_layer_nodes': 60,\n",
    "\t'hidden_layer_activation': \"relu\",\n",
    "\t'learning_rate': 0.01\n",
    "}"
   ]
  },
  {
   "cell_type": "markdown",
   "metadata": {},
   "source": [
    "### Model Compilation\n",
    "\n",
    "Models are compiled using the specified hyperparameters. We have three models in consideration: Random Forest, XGBoost, and a Neural Network (Multi Layer Perceptron)."
   ]
  },
  {
   "cell_type": "code",
   "execution_count": 15,
   "metadata": {},
   "outputs": [],
   "source": [
    "rf = RandomForestClassifier(**rf_params)\n",
    "xgb = XGBClassifier(**xgb_params)\n",
    "\n",
    "nn = tf.keras.models.Sequential([\n",
    "    tf.keras.layers.Input((100,), name=\"input\"),\n",
    "    tf.keras.layers.Dense(nn_params['hidden_layer_nodes'], activation=nn_params['hidden_layer_activation']),\n",
    "    tf.keras.layers.Dense(2,activation='softmax')\n",
    "])\n",
    "\n",
    "nn.compile(\n",
    "    optimizer=tf.keras.optimizers.SGD(nn_params['learning_rate']), \n",
    "    loss=tf.keras.losses.SparseCategoricalCrossentropy(), \n",
    "    metrics=[tf.keras.metrics.SparseCategoricalAccuracy()]\n",
    ")"
   ]
  },
  {
   "cell_type": "markdown",
   "metadata": {},
   "source": [
    "### Confusion Matrices\n",
    "\n",
    "A preliminary assessment of the models' performances is conducted using confusion matrices. This provides an initial insight into how the models perform.\n",
    "\n",
    "#### Random Forest"
   ]
  },
  {
   "cell_type": "code",
   "execution_count": 16,
   "metadata": {},
   "outputs": [
    {
     "data": {
      "image/png": "[encoded data removed]",
      "text/plain": [
       "<Figure size 640x480 with 2 Axes>"
      ]
     },
     "metadata": {},
     "output_type": "display_data"
    }
   ],
   "source": [
    "rf_scores = k_fold_cv(model=rf, df=df, pca_components=100, show_confusion_matrix=True)"
   ]
  },
  {
   "cell_type": "markdown",
   "metadata": {},
   "source": [
    "#### XGBoost"
   ]
  },
  {
   "cell_type": "code",
   "execution_count": 17,
   "metadata": {},
   "outputs": [
    {
     "data": {
      "image/png": "[encoded data removed]",
      "text/plain": [
       "<Figure size 640x480 with 2 Axes>"
      ]
     },
     "metadata": {},
     "output_type": "display_data"
    }
   ],
   "source": [
    "xgb_scores = k_fold_cv(model=xgb, df=df, pca_components=100, show_confusion_matrix=True)"
   ]
  },
  {
   "cell_type": "markdown",
   "metadata": {},
   "source": [
    "#### Neural Network"
   ]
  },
  {
   "cell_type": "code",
   "execution_count": 18,
   "metadata": {},
   "outputs": [
    {
     "data": {
      "image/png": "[encoded data removed]",
      "text/plain": [
       "<Figure size 640x480 with 2 Axes>"
      ]
     },
     "metadata": {},
     "output_type": "display_data"
    }
   ],
   "source": [
    "nn_scores = k_fold_cv_keras(compiled_model=nn, df=df, pca_components=100, show_confusion_matrix=True)"
   ]
  },
  {
   "cell_type": "markdown",
   "metadata": {},
   "source": [
    "### Main Metrics\n",
    "\n",
    "Additionally, key performance metrics, including F1 Score, Accuracy, and AUC, are computed to evaluate the models' performance.\n",
    "\n",
    "#### Random Forest"
   ]
  },
  {
   "cell_type": "code",
   "execution_count": 19,
   "metadata": {},
   "outputs": [
    {
     "data": {
      "text/html": [
       "<div>\n",
       "<style scoped>\n",
       "    .dataframe tbody tr th:only-of-type {\n",
       "        vertical-align: middle;\n",
       "    }\n",
       "\n",
       "    .dataframe tbody tr th {\n",
       "        vertical-align: top;\n",
       "    }\n",
       "\n",
       "    .dataframe thead th {\n",
       "        text-align: right;\n",
       "    }\n",
       "</style>\n",
       "<table border=\"1\" class=\"dataframe\">\n",
       "  <thead>\n",
       "    <tr style=\"text-align: right;\">\n",
       "      <th></th>\n",
       "      <th>metric</th>\n",
       "      <th>mean</th>\n",
       "      <th>std</th>\n",
       "    </tr>\n",
       "  </thead>\n",
       "  <tbody>\n",
       "    <tr>\n",
       "      <th>0</th>\n",
       "      <td>f1_score</td>\n",
       "      <td>0.346234</td>\n",
       "      <td>0.057891</td>\n",
       "    </tr>\n",
       "    <tr>\n",
       "      <th>1</th>\n",
       "      <td>accuracy_score</td>\n",
       "      <td>0.663929</td>\n",
       "      <td>0.041010</td>\n",
       "    </tr>\n",
       "    <tr>\n",
       "      <th>2</th>\n",
       "      <td>roc_auc_score</td>\n",
       "      <td>0.569620</td>\n",
       "      <td>0.028053</td>\n",
       "    </tr>\n",
       "  </tbody>\n",
       "</table>\n",
       "</div>"
      ],
      "text/plain": [
       "           metric      mean       std\n",
       "0        f1_score  0.346234  0.057891\n",
       "1  accuracy_score  0.663929  0.041010\n",
       "2   roc_auc_score  0.569620  0.028053"
      ]
     },
     "execution_count": 19,
     "metadata": {},
     "output_type": "execute_result"
    }
   ],
   "source": [
    "rf_metrics = mean_std_results_k_fold_CV(rf_scores)\n",
    "rf_metrics"
   ]
  },
  {
   "cell_type": "markdown",
   "metadata": {},
   "source": [
    "#### XGBoost"
   ]
  },
  {
   "cell_type": "code",
   "execution_count": 20,
   "metadata": {},
   "outputs": [
    {
     "data": {
      "text/html": [
       "<div>\n",
       "<style scoped>\n",
       "    .dataframe tbody tr th:only-of-type {\n",
       "        vertical-align: middle;\n",
       "    }\n",
       "\n",
       "    .dataframe tbody tr th {\n",
       "        vertical-align: top;\n",
       "    }\n",
       "\n",
       "    .dataframe thead th {\n",
       "        text-align: right;\n",
       "    }\n",
       "</style>\n",
       "<table border=\"1\" class=\"dataframe\">\n",
       "  <thead>\n",
       "    <tr style=\"text-align: right;\">\n",
       "      <th></th>\n",
       "      <th>metric</th>\n",
       "      <th>mean</th>\n",
       "      <th>std</th>\n",
       "    </tr>\n",
       "  </thead>\n",
       "  <tbody>\n",
       "    <tr>\n",
       "      <th>0</th>\n",
       "      <td>f1_score</td>\n",
       "      <td>0.429173</td>\n",
       "      <td>0.068625</td>\n",
       "    </tr>\n",
       "    <tr>\n",
       "      <th>1</th>\n",
       "      <td>accuracy_score</td>\n",
       "      <td>0.645935</td>\n",
       "      <td>0.034490</td>\n",
       "    </tr>\n",
       "    <tr>\n",
       "      <th>2</th>\n",
       "      <td>roc_auc_score</td>\n",
       "      <td>0.587457</td>\n",
       "      <td>0.032283</td>\n",
       "    </tr>\n",
       "  </tbody>\n",
       "</table>\n",
       "</div>"
      ],
      "text/plain": [
       "           metric      mean       std\n",
       "0        f1_score  0.429173  0.068625\n",
       "1  accuracy_score  0.645935  0.034490\n",
       "2   roc_auc_score  0.587457  0.032283"
      ]
     },
     "execution_count": 20,
     "metadata": {},
     "output_type": "execute_result"
    }
   ],
   "source": [
    "xgb_metrics = mean_std_results_k_fold_CV(xgb_scores)\n",
    "xgb_metrics"
   ]
  },
  {
   "cell_type": "markdown",
   "metadata": {},
   "source": [
    "#### Neural Network"
   ]
  },
  {
   "cell_type": "code",
   "execution_count": 21,
   "metadata": {},
   "outputs": [
    {
     "data": {
      "text/html": [
       "<div>\n",
       "<style scoped>\n",
       "    .dataframe tbody tr th:only-of-type {\n",
       "        vertical-align: middle;\n",
       "    }\n",
       "\n",
       "    .dataframe tbody tr th {\n",
       "        vertical-align: top;\n",
       "    }\n",
       "\n",
       "    .dataframe thead th {\n",
       "        text-align: right;\n",
       "    }\n",
       "</style>\n",
       "<table border=\"1\" class=\"dataframe\">\n",
       "  <thead>\n",
       "    <tr style=\"text-align: right;\">\n",
       "      <th></th>\n",
       "      <th>metric</th>\n",
       "      <th>mean</th>\n",
       "      <th>std</th>\n",
       "    </tr>\n",
       "  </thead>\n",
       "  <tbody>\n",
       "    <tr>\n",
       "      <th>0</th>\n",
       "      <td>f1_score</td>\n",
       "      <td>0.546275</td>\n",
       "      <td>0.103984</td>\n",
       "    </tr>\n",
       "    <tr>\n",
       "      <th>1</th>\n",
       "      <td>accuracy_score</td>\n",
       "      <td>0.718118</td>\n",
       "      <td>0.056883</td>\n",
       "    </tr>\n",
       "    <tr>\n",
       "      <th>2</th>\n",
       "      <td>roc_auc_score</td>\n",
       "      <td>0.661488</td>\n",
       "      <td>0.057819</td>\n",
       "    </tr>\n",
       "  </tbody>\n",
       "</table>\n",
       "</div>"
      ],
      "text/plain": [
       "           metric      mean       std\n",
       "0        f1_score  0.546275  0.103984\n",
       "1  accuracy_score  0.718118  0.056883\n",
       "2   roc_auc_score  0.661488  0.057819"
      ]
     },
     "execution_count": 21,
     "metadata": {},
     "output_type": "execute_result"
    }
   ],
   "source": [
    "nn_metrics = mean_std_results_k_fold_CV(nn_scores)\n",
    "nn_metrics"
   ]
  },
  {
   "cell_type": "markdown",
   "metadata": {},
   "source": [
    "### Performance Comparison\n",
    "\n",
    "The Wilcoxon test is used to compare the median values of these metrics between pairs of models. This is a non-parametric statistical test that assesses whether there is a statistically significant difference between two paired groups, for a fixed significance level.\n",
    "\n",
    "Given the results of the hypothesis tests, it is possible to more easily assess which model over-performs some other model, where the test fails for the considered confidence level.\n",
    "\n",
    "#### Why a Wilcoxon test?\n",
    "\n",
    "- **Non-parametric Test**: The Wilcoxon test is robust to deviations from normality, which is advantageous when dealing with a large dataset where the assumption of normal distribution might not hold.\n",
    "\n",
    "- **Paired Data**: We are comparing metrics from the same dataset, making it a paired comparison. This approach allows us to account for the specific characteristics of our data.\n",
    "\n",
    "- **Statistical Significance**: By calculating p-values using the Wilcoxon test, we can determine whether the observed differences are statistically significant, for a fixed significance level, which is crucial for meaningful model comparison.\n",
    "\n",
    "#### Implementation\n",
    "\n",
    "To achieve this goal, a function was defined to compare the performances using a Wilcoxon Hypothesis Test, organizing the results into a set of dataframes for easy interpretation. This function follows the following steps:\n",
    "\n",
    "1. Create dataframes for each metric such that each column holds the values for a model, and each row represents that model's value for that metric in a specific fold.\n",
    "\n",
    "2. For each of the dataframes created in step 1, perform Wilcoxon's Hypothesis Test to test if there is a difference in the median values of the folds for each model on that metric.\n",
    "\n",
    "3. Perform the test for each combination of two models and present the results in the form of (model 1, model 2, p-value) in a dataframe.\n",
    "\n",
    "4. Organize the p-values in a dictionary, with each metric name as the key and the associated dataframe as the value."
   ]
  },
  {
   "cell_type": "code",
   "execution_count": 22,
   "metadata": {},
   "outputs": [],
   "source": [
    "def models_performance_comparison(scores_dict):\n",
    "\n",
    "    metrics_dfs_of_fold_per_model = {}\n",
    "    for model_name, model_metrics_folds_results in scores_dict.items():\n",
    "        for metric_name, metric_folds_results in model_metrics_folds_results.items():\n",
    "            if metric_name not in metrics_dfs_of_fold_per_model.keys():\n",
    "                metrics_dfs_of_fold_per_model[metric_name] = pd.DataFrame(\n",
    "                    index=[f\"fold{i}\" for i in range(1,len(metric_folds_results)+1)],\n",
    "                    data=metric_folds_results,\n",
    "                    columns=[model_name]\n",
    "                )\n",
    "            else: metrics_dfs_of_fold_per_model[metric_name][model_name] = metric_folds_results\n",
    "    \n",
    "    metrics_dfs_of_pvalues = {}\n",
    "    for metric_name, folds_models_values in metrics_dfs_of_fold_per_model.items():\n",
    "        pvalues_df_data = []\n",
    "        for i in range(len(folds_models_values.columns)):\n",
    "            for j in range(i+1, len(folds_models_values.columns)):\n",
    "                model1 = folds_models_values.columns[i]\n",
    "                model2 = folds_models_values.columns[j]\n",
    "                pvalue = ss.wilcoxon(folds_models_values[model1].to_numpy(), folds_models_values[model2].to_numpy()).pvalue\n",
    "                pvalues_df_data.append({\"model1\": model1, \"model2\": model2, \"pvalue\": pvalue})\n",
    "        metrics_dfs_of_pvalues[metric_name] = pd.DataFrame(data=pvalues_df_data, columns=[\"model1\", \"model2\", \"pvalue\"])\n",
    "\n",
    "    return metrics_dfs_of_pvalues"
   ]
  },
  {
   "cell_type": "code",
   "execution_count": 23,
   "metadata": {},
   "outputs": [],
   "source": [
    "scores_dict = {\n",
    "    'RF': rf_scores,\n",
    "    'XGB': xgb_scores,\n",
    "    'NN': nn_scores\n",
    "}\n",
    "metrics_dfs_of_fold_per_model = models_performance_comparison(scores_dict)"
   ]
  },
  {
   "cell_type": "markdown",
   "metadata": {},
   "source": [
    "### Results Interpretation\n",
    "\n",
    "For the purposes of this project, a significance level of 0.05 (for a 95% confidence level) was considered.\n",
    "\n",
    "#### Accuracy\n",
    "\n",
    "The Wilcoxon Hypothesis Test results for accuracy indicate that there is a statistically significant difference in accuracy between the Random Forest model and both the XGBoost and Neural Network models. However, there is no statistical difference in accuracy between the Random Forest and XGBoost models, even if the p-value is very near the set margin."
   ]
  },
  {
   "cell_type": "code",
   "execution_count": 24,
   "metadata": {},
   "outputs": [
    {
     "data": {
      "text/html": [
       "<div>\n",
       "<style scoped>\n",
       "    .dataframe tbody tr th:only-of-type {\n",
       "        vertical-align: middle;\n",
       "    }\n",
       "\n",
       "    .dataframe tbody tr th {\n",
       "        vertical-align: top;\n",
       "    }\n",
       "\n",
       "    .dataframe thead th {\n",
       "        text-align: right;\n",
       "    }\n",
       "</style>\n",
       "<table border=\"1\" class=\"dataframe\">\n",
       "  <thead>\n",
       "    <tr style=\"text-align: right;\">\n",
       "      <th></th>\n",
       "      <th>model1</th>\n",
       "      <th>model2</th>\n",
       "      <th>pvalue</th>\n",
       "    </tr>\n",
       "  </thead>\n",
       "  <tbody>\n",
       "    <tr>\n",
       "      <th>0</th>\n",
       "      <td>RF</td>\n",
       "      <td>XGB</td>\n",
       "      <td>0.050612</td>\n",
       "    </tr>\n",
       "    <tr>\n",
       "      <th>1</th>\n",
       "      <td>RF</td>\n",
       "      <td>NN</td>\n",
       "      <td>0.009766</td>\n",
       "    </tr>\n",
       "    <tr>\n",
       "      <th>2</th>\n",
       "      <td>XGB</td>\n",
       "      <td>NN</td>\n",
       "      <td>0.003906</td>\n",
       "    </tr>\n",
       "  </tbody>\n",
       "</table>\n",
       "</div>"
      ],
      "text/plain": [
       "  model1 model2    pvalue\n",
       "0     RF    XGB  0.050612\n",
       "1     RF     NN  0.009766\n",
       "2    XGB     NN  0.003906"
      ]
     },
     "execution_count": 24,
     "metadata": {},
     "output_type": "execute_result"
    }
   ],
   "source": [
    "metrics_dfs_of_fold_per_model['accuracy_score']"
   ]
  },
  {
   "cell_type": "markdown",
   "metadata": {},
   "source": [
    "#### F1 Score\n",
    "\n",
    "The Wilcoxon Hypothesis Test results for F1 score clearly demonstrate significant statistical differences in F1 score between the models. The Random Forest model, in particular, had particularly different F1 score performance compared to both the XGBoost and Neural Network models."
   ]
  },
  {
   "cell_type": "code",
   "execution_count": null,
   "metadata": {},
   "outputs": [
    {
     "data": {
      "text/html": [
       "<div>\n",
       "<style scoped>\n",
       "    .dataframe tbody tr th:only-of-type {\n",
       "        vertical-align: middle;\n",
       "    }\n",
       "\n",
       "    .dataframe tbody tr th {\n",
       "        vertical-align: top;\n",
       "    }\n",
       "\n",
       "    .dataframe thead th {\n",
       "        text-align: right;\n",
       "    }\n",
       "</style>\n",
       "<table border=\"1\" class=\"dataframe\">\n",
       "  <thead>\n",
       "    <tr style=\"text-align: right;\">\n",
       "      <th></th>\n",
       "      <th>model1</th>\n",
       "      <th>model2</th>\n",
       "      <th>pvalue</th>\n",
       "    </tr>\n",
       "  </thead>\n",
       "  <tbody>\n",
       "    <tr>\n",
       "      <th>0</th>\n",
       "      <td>RF</td>\n",
       "      <td>XGB</td>\n",
       "      <td>0.001953</td>\n",
       "    </tr>\n",
       "    <tr>\n",
       "      <th>1</th>\n",
       "      <td>RF</td>\n",
       "      <td>NN</td>\n",
       "      <td>0.003906</td>\n",
       "    </tr>\n",
       "    <tr>\n",
       "      <th>2</th>\n",
       "      <td>XGB</td>\n",
       "      <td>NN</td>\n",
       "      <td>0.019531</td>\n",
       "    </tr>\n",
       "  </tbody>\n",
       "</table>\n",
       "</div>"
      ],
      "text/plain": [
       "  model1 model2    pvalue\n",
       "0     RF    XGB  0.001953\n",
       "1     RF     NN  0.003906\n",
       "2    XGB     NN  0.019531"
      ]
     },
     "execution_count": 25,
     "metadata": {},
     "output_type": "execute_result"
    }
   ],
   "source": [
    "metrics_dfs_of_fold_per_model['f1_score']"
   ]
  },
  {
   "cell_type": "markdown",
   "metadata": {},
   "source": [
    "#### AUC Score\n",
    "\n",
    "The Wilcoxon Hypothesis Test results for AUC score indicate that there are statistical differences in AUC performance between the models. The results suggest that the Random Forest and Neural Network models and the XGBoost and Neural network have statistically significantly different AUC scores. The difference between Random Forest and XGBoost in this metric is also statistically significant, but only because of the chosen significance level."
   ]
  },
  {
   "cell_type": "code",
   "execution_count": 26,
   "metadata": {},
   "outputs": [
    {
     "data": {
      "text/html": [
       "<div>\n",
       "<style scoped>\n",
       "    .dataframe tbody tr th:only-of-type {\n",
       "        vertical-align: middle;\n",
       "    }\n",
       "\n",
       "    .dataframe tbody tr th {\n",
       "        vertical-align: top;\n",
       "    }\n",
       "\n",
       "    .dataframe thead th {\n",
       "        text-align: right;\n",
       "    }\n",
       "</style>\n",
       "<table border=\"1\" class=\"dataframe\">\n",
       "  <thead>\n",
       "    <tr style=\"text-align: right;\">\n",
       "      <th></th>\n",
       "      <th>model1</th>\n",
       "      <th>model2</th>\n",
       "      <th>pvalue</th>\n",
       "    </tr>\n",
       "  </thead>\n",
       "  <tbody>\n",
       "    <tr>\n",
       "      <th>0</th>\n",
       "      <td>RF</td>\n",
       "      <td>XGB</td>\n",
       "      <td>0.048828</td>\n",
       "    </tr>\n",
       "    <tr>\n",
       "      <th>1</th>\n",
       "      <td>RF</td>\n",
       "      <td>NN</td>\n",
       "      <td>0.003906</td>\n",
       "    </tr>\n",
       "    <tr>\n",
       "      <th>2</th>\n",
       "      <td>XGB</td>\n",
       "      <td>NN</td>\n",
       "      <td>0.009766</td>\n",
       "    </tr>\n",
       "  </tbody>\n",
       "</table>\n",
       "</div>"
      ],
      "text/plain": [
       "  model1 model2    pvalue\n",
       "0     RF    XGB  0.048828\n",
       "1     RF     NN  0.003906\n",
       "2    XGB     NN  0.009766"
      ]
     },
     "execution_count": 26,
     "metadata": {},
     "output_type": "execute_result"
    }
   ],
   "source": [
    "metrics_dfs_of_fold_per_model['roc_auc_score']"
   ]
  },
  {
   "cell_type": "markdown",
   "metadata": {},
   "source": [
    "### Results and conclusion\n",
    "\n",
    "In this analysis of model performance, statistically significant differences in the various key metrics among the models were observed. It is also evident that the Neural Network model outshines the other models, having better scores in all key metrics.\n",
    "\n",
    "In the context of lung cancer classification, where the consequences of false negatives can be life-threatening, and false positives can lead to significant financial, psychological and physical burdens, the Neural Network appears to be the best choice to handle our data."
   ]
  }
 ],
 "metadata": {
  "kernelspec": {
   "display_name": "ML2",
   "language": "python",
   "name": "python3"
  },
  "language_info": {
   "codemirror_mode": {
    "name": "ipython",
    "version": 3
   },
   "file_extension": ".py",
   "mimetype": "text/x-python",
   "name": "python",
   "nbconvert_exporter": "python",
   "pygments_lexer": "ipython3",
   "version": "3.8.18"
  }
 },
 "nbformat": 4,
 "nbformat_minor": 2
}
