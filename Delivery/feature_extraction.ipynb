{
 "cells": [
  {
   "cell_type": "markdown",
   "metadata": {},
   "source": [
    "# Feature Extraction\n",
    "\n",
    "The dataset provided contains CT-scans of different lung patients. In order to extract some features out of these, we used two different python libraries, pylidc and pyradiomics. Before merging the two, we also turned our target variable, which took values from 1 to 5, into a binary variable (benign vs malign).\n",
    "\n",
    "We start by importing relevant libraries."
   ]
  },
  {
   "cell_type": "code",
   "execution_count": null,
   "metadata": {},
   "outputs": [],
   "source": [
    "import pylidc\n",
    "import numpy as np\n",
    "import pandas as pd\n",
    "import matplotlib.pyplot as plt\n",
    "import seaborn as sns\n",
    "import os"
   ]
  },
  {
   "cell_type": "markdown",
   "metadata": {},
   "source": [
    "### PyLIDC\n",
    "\n",
    "We create a dataframe to store all the information we aim to extract"
   ]
  },
  {
   "cell_type": "code",
   "execution_count": null,
   "metadata": {},
   "outputs": [],
   "source": [
    "df_pylidc = pd.DataFrame(columns= [\n",
    "                            'patient_id', \n",
    "                            'annotation_id',\n",
    "                            'scan_id',\n",
    "                            \n",
    "                            'slice_thickness',\n",
    "                            'pixel_spacing',\n",
    "\n",
    "                            'subtlety', \n",
    "                            'internalStructure', \n",
    "                            'calcification', \n",
    "                            'sphericity', \n",
    "                            'margin', \n",
    "                            'lobulation', \n",
    "                            'spiculation', \n",
    "                            'texture', \n",
    "                        \n",
    "                            'diameter',\n",
    "                            'surface_area',\n",
    "                            'volume',\n",
    "\n",
    "                            'malignancy',\n",
    "                            ])"
   ]
  },
  {
   "cell_type": "markdown",
   "metadata": {},
   "source": [
    "And then we estract the data and save it to a CSV file."
   ]
  },
  {
   "cell_type": "code",
   "execution_count": null,
   "metadata": {},
   "outputs": [],
   "source": [
    "ann = pylidc.query(pylidc.Annotation).all()\n",
    "\n",
    "for i in range(len(ann)):\n",
    "    att  = dict((col, \"\") for col in df_pylidc.columns)\n",
    "\n",
    "    # patient and annotation identification\n",
    "    att['patient_id'] = ann[i].scan.patient_id\n",
    "    att['annotation_id'] = ann[i].id  \n",
    "    att['scan_id'] = ann[i].scan.id\n",
    "\n",
    "    # features\n",
    "    st = pylidc.query(pylidc.Scan.slice_thickness).filter(pylidc.Scan.id == att['scan_id'])\n",
    "    s = str(st[0])\n",
    "    att['slice_thickness'] = float(s[1:4])\n",
    "    ps = pylidc.query(pylidc.Scan.pixel_spacing).filter(pylidc.Scan.id == att['scan_id'])\n",
    "    p = str(ps[0])\n",
    "    att['pixel_spacing'] = float(p[1:5])\n",
    "\n",
    "    att['subtlety'] = ann[i].subtlety\n",
    "    att['internalStructure'] = ann[i].internalStructure \n",
    "    att['calcification'] = ann[i].calcification \n",
    "    att['sphericity'] = ann[i].sphericity\n",
    "    att['margin'] = ann[i].margin  \n",
    "    att['lobulation'] = ann[i].lobulation\n",
    "    att['spiculation'] = ann[i].spiculation \n",
    "    att['texture'] = ann[i].texture\n",
    "\n",
    "    att['diameter'] = ann[i].diameter\n",
    "    att['surface_area'] = ann[i].surface_area\n",
    "    att['volume'] = ann[i].volume\n",
    "\n",
    "    # target\n",
    "    att['malignancy'] = ann[i].malignancy  \n",
    "\n",
    "    df_pylidc = df_pylidc.append(att, ignore_index=True)\n",
    "\n",
    "df_pylidc.to_csv('pylidc_features.csv', sep=',', index=False)"
   ]
  },
  {
   "cell_type": "markdown",
   "metadata": {},
   "source": [
    "#### Exploring the data attained"
   ]
  },
  {
   "cell_type": "code",
   "execution_count": null,
   "metadata": {},
   "outputs": [],
   "source": [
    "df_pylidc = pd.read_csv('pylidc_features.csv', index_col=False)\n",
    "df_pylidc.head()"
   ]
  },
  {
   "cell_type": "code",
   "execution_count": null,
   "metadata": {},
   "outputs": [],
   "source": [
    "# number of individual patients assessed in the data\n",
    "patients = np.unique(df_pylidc.patient_id)\n",
    "print(f\"Total number of patients: {len(patients)} \\n\")\n",
    "\n",
    "df_pylidc.info()"
   ]
  },
  {
   "cell_type": "markdown",
   "metadata": {},
   "source": [
    "#### Standardizing Indexes\n",
    "\n",
    "We start by sorting the dataframe by 'patient_id' and 'annotation_id' and grouping it by 'patient_id' in a new index column."
   ]
  },
  {
   "cell_type": "code",
   "execution_count": null,
   "metadata": {},
   "outputs": [],
   "source": [
    "df_pylidc.sort_values(by=['patient_id', 'annotation_id'], inplace=True)\n",
    "\n",
    "df_pylidc['Ann_id'] = df_pylidc.groupby('patient_id').cumcount() + 1\n",
    "df_pylidc = df_pylidc[['Ann_id'] + [col for col in df_pylidc.columns if col != 'Ann_id']]"
   ]
  },
  {
   "cell_type": "markdown",
   "metadata": {},
   "source": [
    "We then format the new ID to match with data we will get from PyRadiomics and drop the redundant columns, saving the dataframe to a new CSV file."
   ]
  },
  {
   "cell_type": "code",
   "execution_count": null,
   "metadata": {},
   "outputs": [],
   "source": [
    "for i in range(len(df_pylidc)):\n",
    "    df_pylidc.at[i,'Id'] = df_pylidc.at[i,'patient_id'] + '-' + str(df_pylidc.at[i,'Ann_id'])\n",
    "\n",
    "df_pylidc = df_pylidc[['Id'] + [col for col in df_pylidc.columns if col != 'Id']]\n",
    "df_pylidc = df_pylidc.drop(columns=['Ann_id', 'annotation_id', 'scan_id'])\n",
    "\n",
    "df_pylidc.to_csv('pylidc_features_fixed.csv', sep=',', index=False)"
   ]
  },
  {
   "cell_type": "markdown",
   "metadata": {},
   "source": [
    "### PyRadiomics\n",
    "\n",
    "Pyradiomics doesn't deal with DICOM files directly. In their documentation, though, it is possible to find a experimental script (pyradiomics-dcm.py) that supports its use with DICOM data, using plastimatch and dcmqi.\n",
    "\n",
    "We modified this script to append new lines to an already existing, but containing only the headers, CSV file and used it for our feature extraction.\n",
    "\n",
    "This script was given as input:\n",
    "- a directory with the input DICOM series\n",
    "- the file name pointing to a DICOM Segmentation Image (DICOM SEG) object\n",
    "- the file name pointing to a yaml with the desired extraction parameters\n",
    "- the file name pointing to a tsv dictionary that maps pyradiomics feature names to the IBSI defined features\n",
    "- the ID for that segmentation\n",
    "\n",
    "Like this, we only needed to iterate through all of the patients and respective segmentations to process the extraction."
   ]
  },
  {
   "cell_type": "code",
   "execution_count": null,
   "metadata": {},
   "outputs": [],
   "source": [
    "main_directory = os.listdir()\n",
    "\n",
    "for patient in main_directory:\n",
    "    # enter each patients folder, ignoring the folders for storing output and other files that may be inside the main directory\n",
    "    if (not os.path.isdir(patient)) or patient == \"OutputSR\" or patient == \"TempDir\":\n",
    "        continue\n",
    "    \n",
    "    folders = os.listdir(patient) # list of folders inside patient (CT-scan and X-ray)\n",
    "    path = \"\"\n",
    "    content = 0\n",
    "    \n",
    "    # finding the CT-scan folder (has the biggest content - directories with each segmentation and directory with the input DICOM series)\n",
    "    for folder in folders:\n",
    "        segmentations_or_series = os.listdir(patient + \"\\\\\" + folder)\n",
    "        if (len(segmentations_or_series) > content):\n",
    "            content = len(segmentations_or_series)\n",
    "            path = folder\n",
    "    \n",
    "    folders = os.listdir(patient + \"\\\\\" + path)\n",
    "    main = \"\"\n",
    "\n",
    "    # finding the series folder\n",
    "    for folder in folders:\n",
    "        if not \"Annotation\" in folder:\n",
    "            main = folder\n",
    "            break\n",
    "        \n",
    "    seg_index = 1\n",
    "    \n",
    "    # extract features for each segmentation and naming each line with Patient_Name-Segmentation_Number\n",
    "    for folder in folders:\n",
    "        if \"Segmentation\" in folder:\n",
    "            print(\"\\n\\nPACIENTE NUMERO \" + patient + \" - SEGMENTAÇÃO \" + str(seg_index))\n",
    "            os.system(f'cmd /c \"\"\"python pyradiomics-dcm.py --input-image-dir \"{patient}\\{path}\\{main}\" --input-seg-file \"{patient}\\{path}\\{folder}\\\\1-1.dcm\" --output-dir OutputSR --temp-dir TempDir --parameters Pyradiomics_Params.yaml --features-dict featuresDict.tsv --name {patient}-{seg_index}\"\"\"')\n",
    "            seg_index+=1\n"
   ]
  },
  {
   "cell_type": "markdown",
   "metadata": {},
   "source": [
    "The previous script takes days to run for all patients, which is why we found it unwise to run it again inside the notebook.\n",
    "\n",
    "The attained CSV file didn't process some of the features due to some images being too small to apply the Log filter and didn't process some segmentations due to the mask having too few dimensions or voxels.\n",
    "\n",
    "Regardless, our final Pyradiomics CSV was as following.\n",
    "\n",
    "#### Exploring the data attained"
   ]
  },
  {
   "cell_type": "code",
   "execution_count": null,
   "metadata": {},
   "outputs": [],
   "source": [
    "df_pyradiomics = pd.read_csv('pyradiomics_features.csv', index_col=False)\n",
    "df_pyradiomics.info()"
   ]
  },
  {
   "cell_type": "code",
   "execution_count": null,
   "metadata": {},
   "outputs": [],
   "source": [
    "# number of individual patients assessed in the data\n",
    "patients = np.unique(df_pyradiomics.id)\n",
    "print(f\"Total number of patients: {len(patients)} \\n\")\n",
    "\n",
    "df_pyradiomics.info()"
   ]
  },
  {
   "cell_type": "markdown",
   "metadata": {},
   "source": [
    "Looking at the whole dataframe, we were able to see that the lines where the Log Filter wasn't correctly applied were misplaced.\n",
    "\n",
    "#### Fixing misplaced cells"
   ]
  },
  {
   "cell_type": "code",
   "execution_count": null,
   "metadata": {},
   "outputs": [],
   "source": [
    "df_pyradiomics.iloc[:, 143:] = df.iloc[:, 143:].apply(lambda x: x.shift(273) if x.isna().any() else x, axis=1)\n",
    "df.to_csv('pyradiomics_extraction_fixed.csv', index=False)"
   ]
  },
  {
   "cell_type": "markdown",
   "metadata": {},
   "source": [
    "Finally, we have the result of both feature extractions."
   ]
  }
 ],
 "metadata": {
  "language_info": {
   "name": "python"
  }
 },
 "nbformat": 4,
 "nbformat_minor": 2
}
