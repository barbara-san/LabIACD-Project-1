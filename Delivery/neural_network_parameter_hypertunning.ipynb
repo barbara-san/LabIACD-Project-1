{
 "cells": [
  {
   "cell_type": "code",
   "execution_count": null,
   "metadata": {},
   "outputs": [],
   "source": [
    "from kfold_and_metrics import *\n",
    "\n",
    "import tensorflow as tf\n",
    "import pandas as pd\n",
    "import numpy as np\n",
    "\n",
    "tf.keras.backend.clear_session()"
   ]
  },
  {
   "cell_type": "code",
   "execution_count": null,
   "metadata": {},
   "outputs": [],
   "source": [
    "df = pd.read_csv(\"final.csv\")\n",
    "df = df.drop(columns=['id'])\n",
    "df.head()"
   ]
  },
  {
   "cell_type": "code",
   "execution_count": null,
   "metadata": {},
   "outputs": [],
   "source": [
    "activation_possibilities = [\"softmax\", \"relu\", \"sigmoid\"]\n",
    "max = 0\n",
    "best = []\n",
    "for activation_hidden in activation_possibilities:\n",
    "    for num_nodes_hidden_layer in range(5, len(df.columns)*2//3, 10):\n",
    "        for gradient in [0.001, 0.003, 0.005, 0.007, 0.01]:\n",
    "            print(f\"Current parameter combination:\\n\\tNumber of Hidden Layers: {num_nodes_hidden_layer}\\n\\tActivation Function for the Hidden Layer: {activation_hidden}\\n\\tLearning Rate: {gradient}\")\n",
    "            nn_model = tf.keras.models.Sequential([\n",
    "                tf.keras.layers.Input((len(df.columns)-2,), name=\"input\"),\n",
    "                tf.keras.layers.Dense(num_nodes_hidden_layer,activation=activation_hidden),\n",
    "                tf.keras.layers.Dense(2,activation='softmax')\n",
    "            ])\n",
    "            nn_model.compile(\n",
    "                optimizer=tf.keras.optimizers.SGD(gradient), \n",
    "                loss=tf.keras.losses.SparseCategoricalCrossentropy(), \n",
    "                metrics=[tf.keras.metrics.SparseCategoricalAccuracy()]\n",
    "            )\n",
    "            score = k_fold_cv_keras(compiled_model=nn_model, df=df)\n",
    "            results = mean_std_results_k_fold_CV(score)\n",
    "\n",
    "            print(results)\n",
    "\n",
    "            accuracy_avg = results.iloc[1,1]\n",
    "            if accuracy_avg > max:\n",
    "                best = [num_nodes_hidden_layer, activation_hidden, gradient]\n",
    "\n",
    "print(f\"Number of Hidden Layers: {best[0]}\\nActivation Function for the Hidden Layer: {best[1]}\\nLearning Rate: {best[2]}\")"
   ]
  }
 ],
 "metadata": {
  "kernelspec": {
   "display_name": "ML2",
   "language": "python",
   "name": "python3"
  },
  "language_info": {
   "codemirror_mode": {
    "name": "ipython",
    "version": 3
   },
   "file_extension": ".py",
   "mimetype": "text/x-python",
   "name": "python",
   "nbconvert_exporter": "python",
   "pygments_lexer": "ipython3",
   "version": "3.8.18"
  }
 },
 "nbformat": 4,
 "nbformat_minor": 2
}
