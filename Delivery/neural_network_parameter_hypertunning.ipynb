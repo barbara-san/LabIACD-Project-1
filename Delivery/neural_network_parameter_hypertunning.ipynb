{
 "cells": [
  {
   "cell_type": "code",
   "execution_count": null,
   "metadata": {},
   "outputs": [],
   "source": [
    "from kfold_and_metrics import *\n",
    "\n",
    "import tensorflow as tf\n",
    "import pandas as pd\n",
    "import numpy as np\n",
    "\n",
    "tf.keras.backend.clear_session()"
   ]
  },
  {
   "cell_type": "code",
   "execution_count": null,
   "metadata": {},
   "outputs": [],
   "source": [
    "df = pd.read_csv(\"final.csv\")\n",
    "df = df.drop(columns=['id'])\n",
    "df.head()"
   ]
  },
  {
   "cell_type": "code",
   "execution_count": null,
   "metadata": {},
   "outputs": [],
   "source": [
    "activation_possibilities = [\"softmax\", \"relu\", \"sigmoid\"]\n",
    "best_auc = 0\n",
    "best = {}\n",
    "for activation_hidden in activation_possibilities:\n",
    "    for num_nodes_hidden_layer in range(5, len(df.columns)*2//3, 10):\n",
    "        for gradient in [0.001, 0.003, 0.005, 0.007, 0.01]:\n",
    "            params = {'hidden_layer_nodes': num_nodes_hidden_layer, 'hidden_layer_activation': activation_hidden, 'learning_rate': gradient}\n",
    "            print(\"Current parameter combination:\")\n",
    "            for parameter, value in params.items():\n",
    "                print(f\"\\t{parameter}: {value}\")\n",
    "            print()\n",
    "\n",
    "            nn_model = tf.keras.models.Sequential([\n",
    "                tf.keras.layers.Input((len(df.columns)-2,), name=\"input\"),\n",
    "                tf.keras.layers.Dense(num_nodes_hidden_layer,activation=activation_hidden),\n",
    "                tf.keras.layers.Dense(2,activation='softmax')\n",
    "            ])\n",
    "            nn_model.compile(\n",
    "                optimizer=tf.keras.optimizers.SGD(gradient), \n",
    "                loss=tf.keras.losses.SparseCategoricalCrossentropy(), \n",
    "                metrics=[tf.keras.metrics.SparseCategoricalAccuracy()]\n",
    "            )\n",
    "            score = k_fold_cv_keras(compiled_model=nn_model, df=df)\n",
    "            results = mean_std_results_k_fold_CV(score)\n",
    "\n",
    "            auc_avg = results.iloc[2,1]\n",
    "            if auc_avg > best_auc:\n",
    "                best_auc = auc_avg\n",
    "                best = params\n",
    "\n",
    "print(\"Results of the grid search parameter hypertunning:\")\n",
    "for parameter, value in best.items():\n",
    "    print(f\"\\t{parameter}: {value}\")"
   ]
  }
 ],
 "metadata": {
  "kernelspec": {
   "display_name": "Python 3 (ipykernel)",
   "language": "python",
   "name": "python3"
  },
  "language_info": {
   "codemirror_mode": {
    "name": "ipython",
    "version": 3
   },
   "file_extension": ".py",
   "mimetype": "text/x-python",
   "name": "python",
   "nbconvert_exporter": "python",
   "pygments_lexer": "ipython3",
   "version": "3.8.18"
  }
 },
 "nbformat": 4,
 "nbformat_minor": 2
}
