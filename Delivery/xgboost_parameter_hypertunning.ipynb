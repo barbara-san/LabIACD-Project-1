{
 "cells": [
  {
   "cell_type": "code",
   "execution_count": null,
   "metadata": {},
   "outputs": [],
   "source": [
    "from sklearn.ensemble import GradientBoostingClassifier \n",
    "from kfold_and_metrics import *\n",
    "from sklearn.metrics import roc_auc_score\n",
    "import numpy as np\n",
    "import pandas as pd\n",
    "\n",
    "import matplotlib.pyplot as plt\n",
    "from sklearn.decomposition import PCA\n",
    "from sklearn.preprocessing import StandardScaler, LabelEncoder"
   ]
  },
  {
   "cell_type": "code",
   "execution_count": null,
   "metadata": {},
   "outputs": [],
   "source": [
    "df = pd.read_csv(\"final.csv\")\n",
    "df = df.drop(columns=[\"id\"])\n",
    "df.head()"
   ]
  },
  {
   "cell_type": "code",
   "execution_count": null,
   "metadata": {},
   "outputs": [],
   "source": [
    "best_auc_average = 0\n",
    "best = {}\n",
    "\n",
    "for n_est in range(30, 201, 10):\n",
    "    for m_depth in range(5, 31):\n",
    "        for m_l_samples in range(5, 21):\n",
    "            for crit in ['friedman_mse', 'squared_error']:\n",
    "                params = {'n_estimators': n_est, 'max_depth': m_depth, 'min_samples_leaf': m_l_samples, 'criterion': crit}\n",
    "                print(\"Current parameter combination:\")\n",
    "                for parameter, value in params.items():\n",
    "                    print(f\"\\t{parameter}: {value}\")\n",
    "                print()\n",
    "\n",
    "                model = GradientBoostingClassifier(n_estimators=n_est, max_depth=m_depth, min_samples_leaf=m_l_samples, criterion=crit)\n",
    "                auc_results = k_fold_cv(model, df, metric_funcs=[roc_auc_score], pca_components=50, k_fold_verbose=True)\n",
    "                auc_average, auc_std = weighted_avg_and_std(np.array(auc_results['roc_auc_score']))\n",
    "                if auc_average > best_auc_average:\n",
    "                    best_auc_average = auc_average\n",
    "                    best = params\n",
    "\n",
    "print(\"Results of the grid search parameter hypertunning:\")\n",
    "for parameter, value in best.items():\n",
    "    print(f\"\\t{parameter}: {value}\")"
   ]
  }
 ],
 "metadata": {
  "kernelspec": {
   "display_name": "Python 3 (ipykernel)",
   "language": "python",
   "name": "python3"
  },
  "language_info": {
   "codemirror_mode": {
    "name": "ipython",
    "version": 3
   },
   "file_extension": ".py",
   "mimetype": "text/x-python",
   "name": "python",
   "nbconvert_exporter": "python",
   "pygments_lexer": "ipython3",
   "version": "3.8.18"
  }
 },
 "nbformat": 4,
 "nbformat_minor": 2
}
