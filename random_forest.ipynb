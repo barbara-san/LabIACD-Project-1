{
 "cells": [
  {
   "cell_type": "code",
   "execution_count": 3,
   "metadata": {},
   "outputs": [],
   "source": [
    "import pandas as pd\n",
    "import kfold_and_metrics as km\n",
    "\n",
    "from sklearn.metrics import roc_auc_score\n",
    "from sklearn.ensemble import RandomForestClassifier"
   ]
  },
  {
   "cell_type": "code",
   "execution_count": null,
   "metadata": {},
   "outputs": [],
   "source": [
    "df = pd.read_csv('Lero/final.csv')"
   ]
  },
  {
   "cell_type": "code",
   "execution_count": null,
   "metadata": {},
   "outputs": [],
   "source": [
    "def best_rf_params(df):\n",
    "    crit_possibilities = [\"gini\", \"entropy\", \"log_loss\"]\n",
    "    max = 0\n",
    "    best = []\n",
    "\n",
    "    for crit in crit_possibilities:\n",
    "        for num_estimators in range(30, 201, 10):\n",
    "            for max_depth in range(10, 31):\n",
    "                for min_samples_leaf in range(5, 21):\n",
    "                    rf_model = RandomForestClassifier(n_estimators=num_estimators, criterion=crit, max_depth=max_depth, min_samples_leaf=min_samples_leaf)\n",
    "                    score = km.k_fold_cv(model=rf_model, df=df, metric_funcs=[roc_auc_score])\n",
    "                    avg, std = km.weighted_avg_and_std(np.array(score[\"roc_auc_score\"]), score[\"weight\"])\n",
    "                    if score > max:\n",
    "                        best = [num_estimators, crit, max_depth, min_samples_leaf]\n",
    "\n",
    "    return RandomForestClassifier(n_estimators=best[0], criterion=best[1], max_depth=best[2], min_samples_leaf=best[3])\n",
    "\n",
    "\n",
    "\n"
   ]
  },
  {
   "cell_type": "code",
   "execution_count": null,
   "metadata": {},
   "outputs": [],
   "source": []
  }
 ],
 "metadata": {
  "kernelspec": {
   "display_name": "lab_lungcancer",
   "language": "python",
   "name": "python3"
  },
  "language_info": {
   "codemirror_mode": {
    "name": "ipython",
    "version": 3
   },
   "file_extension": ".py",
   "mimetype": "text/x-python",
   "name": "python",
   "nbconvert_exporter": "python",
   "pygments_lexer": "ipython3",
   "version": "3.11.5"
  }
 },
 "nbformat": 4,
 "nbformat_minor": 2
}
