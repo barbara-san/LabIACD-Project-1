{
 "cells": [
  {
   "cell_type": "code",
   "execution_count": 1,
   "metadata": {},
   "outputs": [],
   "source": [
    "from sklearn.ensemble import GradientBoostingClassifier \n",
    "from sklearn.model_selection import train_test_split"
   ]
  },
  {
   "cell_type": "code",
   "execution_count": 2,
   "metadata": {},
   "outputs": [],
   "source": [
    "carro= GradientBoostingClassifier()"
   ]
  },
  {
   "cell_type": "code",
   "execution_count": 3,
   "metadata": {},
   "outputs": [],
   "source": [
    "def trainmodel(model, trainsetx, trainsety):\n",
    "    return model.fit(trainsetx, trainsety)\n",
    "    "
   ]
  },
  {
   "cell_type": "code",
   "execution_count": 4,
   "metadata": {},
   "outputs": [],
   "source": [
    "def predictmodel(model, testsetx):\n",
    "    return model.predict(testsetx)"
   ]
  },
  {
   "cell_type": "code",
   "execution_count": 5,
   "metadata": {},
   "outputs": [],
   "source": [
    "from sklearn.metrics import f1_score, accuracy_score, roc_curve, roc_auc_score\n",
    "\n",
    "def calculatemetric(testsety, prediction, metricfunction):\n",
    "    return metricfunction(testsety, prediction)\n"
   ]
  },
  {
   "cell_type": "code",
   "execution_count": null,
   "metadata": {},
   "outputs": [],
   "source": []
  },
  {
   "cell_type": "code",
   "execution_count": null,
   "metadata": {},
   "outputs": [],
   "source": [
    "from sklearn.ensemble import GradientBoostingClassifier \n",
    "from kfold_and_metrics import k_fold_cv, weighted_avg_and_std\n",
    "from sklearn.metrics import roc_auc_score\n",
    "\n",
    "import numpy as np\n",
    "\n",
    "best_auc_average = 0\n",
    "best_parameters = {'n_estimators': -1, 'max_depth': -1, 'min_samples_leaf': -1, 'criterion':\"friedman_mse\"}\n",
    "\n",
    "for n_est in range(30, 201, 10):\n",
    "    for m_depth in range(5, 31):\n",
    "        for m_l_samples in range(5, 21):\n",
    "            for crit in ['friedman_mse', 'squared_error']:\n",
    "                model = GradientBoostingClassifier(n_estimators=n_est, max_depth=m_depth, min_samples_leaf=m_l_samples, criterion=crit)\n",
    "                auc_results = k_fold_cv(model, dataframe, metric_funcs=[roc_auc_score])\n",
    "                auc_average, auc_std = weighted_avg_and_std(np.array(auc_results['roc_auc_score']), weights=auc_results['weights'])\n",
    "                if auc_average > best_auc_average:\n",
    "                    best_auc_average = auc_average\n",
    "                    best_parameters = {'n_estimators': n_est, 'max_depth': m_depth, 'min_samples_leaf': m_l_samples, 'criterion':crit}\n",
    "                print(best_parameters)\n",
    "\n",
    "\n",
    "\n",
    "\n"
   ]
  }
 ],
 "metadata": {
  "kernelspec": {
   "display_name": "lab_iacd_project1",
   "language": "python",
   "name": "python3"
  },
  "language_info": {
   "codemirror_mode": {
    "name": "ipython",
    "version": 3
   },
   "file_extension": ".py",
   "mimetype": "text/x-python",
   "name": "python",
   "nbconvert_exporter": "python",
   "pygments_lexer": "ipython3",
   "version": "3.9.7"
  }
 },
 "nbformat": 4,
 "nbformat_minor": 2
}
