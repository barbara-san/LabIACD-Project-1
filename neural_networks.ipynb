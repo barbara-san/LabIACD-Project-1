{
 "cells": [
  {
   "cell_type": "code",
   "execution_count": null,
   "metadata": {},
   "outputs": [],
   "source": [
    "import pandas as pd\n",
    "import numpy as np\n",
    "import kfold_and_metrics as km\n",
    "\n",
    "from sklearn.metrics import roc_auc_score\n",
    "import tensorflow as tf\n",
    "\n",
    "tf.keras.backend.clear_session()"
   ]
  },
  {
   "cell_type": "code",
   "execution_count": null,
   "metadata": {},
   "outputs": [],
   "source": [
    "df = pd.read_csv('Lero/final.csv')\n",
    "tf.random.set_seed(22)"
   ]
  },
  {
   "cell_type": "code",
   "execution_count": null,
   "metadata": {},
   "outputs": [],
   "source": [
    "def best_nn_params(df):\n",
    "\n",
    "    activation_possibilities = [\"softmax\", \"relu\", \"sigmoid\"]\n",
    "    max = 0\n",
    "    best = []\n",
    "\n",
    "    for activation_hidden in activation_possibilities:\n",
    "        for num_nodes_hidden_layer in range(5, len(df.columns), 10):\n",
    "            for gradient in [0.001, 0.003, 0.005, 0.007, 0.01]:\n",
    "\n",
    "                nn_model = tf.keras.models.Sequential([\n",
    "                tf.keras.layers.Flatten(input_shape=(len(df.columns))),\n",
    "                tf.keras.layers.Dense(num_nodes_hidden_layer,activation=activation_hidden),\n",
    "                tf.keras.layers.Dense(2,activation='softmax')\n",
    "                ])\n",
    "\n",
    "                nn_model.compile(\n",
    "                    optimizer=tf.keras.optimizers.SGD(gradient), \n",
    "                    loss=tf.keras.losses.SparseCategoricalCrossentropy(), \n",
    "                    metrics=[tf.keras.metrics.SparseCategoricalAccuracy()]\n",
    "                    )\n",
    "\n",
    "                score = km.k_fold_cv_keras(compiled_model=nn_model, df=df)\n",
    "                avg, std = km.weighted_avg_and_std(np.array(score[\"roc_auc_score\"]), score[\"weight\"])\n",
    "                \n",
    "                if score > max:\n",
    "                    best = [num_nodes_hidden_layer, activation_hidden, gradient]\n",
    "\n",
    "    nn_model = tf.keras.models.Sequential([\n",
    "                    tf.keras.layers.Flatten(input_shape=(len(df.columns))),\n",
    "                    tf.keras.layers.Dense(best[0],activation=best[1]),\n",
    "                    tf.keras.layers.Dense(2,activation='softmax')\n",
    "                    ])\n",
    "                \n",
    "    nn_model.compile(\n",
    "        optimizer=tf.keras.optimizers.SGD(best[2]), \n",
    "        loss=tf.keras.losses.SparseCategoricalCrossentropy(), \n",
    "        metrics=[tf.keras.metrics.SparseCategoricalAccuracy()]\n",
    "        )\n",
    "\n",
    "    return nn_model\n"
   ]
  }
 ],
 "metadata": {
  "kernelspec": {
   "display_name": "lab_lungcancer",
   "language": "python",
   "name": "python3"
  },
  "language_info": {
   "codemirror_mode": {
    "name": "ipython",
    "version": 3
   },
   "file_extension": ".py",
   "mimetype": "text/x-python",
   "name": "python",
   "nbconvert_exporter": "python",
   "pygments_lexer": "ipython3",
   "version": "3.11.5"
  }
 },
 "nbformat": 4,
 "nbformat_minor": 2
}
