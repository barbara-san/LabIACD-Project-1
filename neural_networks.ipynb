{
 "cells": [
  {
   "cell_type": "code",
   "execution_count": 1,
   "metadata": {},
   "outputs": [],
   "source": [
    "import pandas as pd\n",
    "import numpy as np\n",
    "import kfold_and_metrics as km\n",
    "\n",
    "from sklearn.metrics import roc_auc_score\n",
    "import tensorflow as tf\n",
    "\n",
    "tf.keras.backend.clear_session()"
   ]
  },
  {
   "cell_type": "code",
   "execution_count": 2,
   "metadata": {},
   "outputs": [],
   "source": [
    "df = pd.read_csv('Lero/final.csv')\n",
    "tf.random.set_seed(22)"
   ]
  },
  {
   "cell_type": "code",
   "execution_count": 3,
   "metadata": {},
   "outputs": [],
   "source": [
    "def best_nn_params(df):\n",
    "\n",
    "    activation_possibilities = [\"softmax\", \"relu\", \"sigmoid\"]\n",
    "    max = 0\n",
    "    best = []\n",
    "\n",
    "    for activation_hidden in activation_possibilities:\n",
    "        for num_nodes_hidden_layer in range(5, len(df.columns), 10):\n",
    "            for gradient in [0.001, 0.003, 0.005, 0.007, 0.01]:\n",
    "\n",
    "                nn_model = tf.keras.models.Sequential([\n",
    "                tf.keras.layers.Flatten(input_shape=(len(df.columns),)),\n",
    "                tf.keras.layers.Dense(num_nodes_hidden_layer,activation=activation_hidden),\n",
    "                tf.keras.layers.Dense(2,activation='softmax')\n",
    "                ])\n",
    "\n",
    "                nn_model.compile(\n",
    "                    optimizer=tf.keras.optimizers.SGD(gradient), \n",
    "                    loss=tf.keras.losses.SparseCategoricalCrossentropy(), \n",
    "                    metrics=[tf.keras.metrics.SparseCategoricalAccuracy()]\n",
    "                    )\n",
    "\n",
    "                score = km.k_fold_cv_keras(compiled_model=nn_model, df=df)\n",
    "                avg, std = km.weighted_avg_and_std(np.array(score[\"roc_auc_score\"]), score[\"weight\"])\n",
    "                \n",
    "                if score > max:\n",
    "                    best = [num_nodes_hidden_layer, activation_hidden, gradient]\n",
    "\n",
    "    nn_model = tf.keras.models.Sequential([\n",
    "                    tf.keras.layers.Flatten(input_shape=(len(df.columns))),\n",
    "                    tf.keras.layers.Dense(best[0],activation=best[1]),\n",
    "                    tf.keras.layers.Dense(2,activation='softmax')\n",
    "                    ])\n",
    "                \n",
    "    nn_model.compile(\n",
    "        optimizer=tf.keras.optimizers.SGD(best[2]), \n",
    "        loss=tf.keras.losses.SparseCategoricalCrossentropy(), \n",
    "        metrics=[tf.keras.metrics.SparseCategoricalAccuracy()]\n",
    "        )\n",
    "\n",
    "    return nn_model\n"
   ]
  },
  {
   "cell_type": "code",
   "execution_count": 4,
   "metadata": {},
   "outputs": [
    {
     "name": "stderr",
     "output_type": "stream",
     "text": [
      "d:\\LabIACD Projeto 1\\LabIACD Project 1\\LabIACD-Project-1\\kfold_and_metrics.py:35: FutureWarning: The frame.append method is deprecated and will be removed from pandas in a future version. Use pandas.concat instead.\n",
      "  folds[index].append(last_fold[last_fold['patient_id']==pid])\n",
      "d:\\LabIACD Projeto 1\\LabIACD Project 1\\LabIACD-Project-1\\kfold_and_metrics.py:35: FutureWarning: The frame.append method is deprecated and will be removed from pandas in a future version. Use pandas.concat instead.\n",
      "  folds[index].append(last_fold[last_fold['patient_id']==pid])\n",
      "d:\\LabIACD Projeto 1\\LabIACD Project 1\\LabIACD-Project-1\\kfold_and_metrics.py:35: FutureWarning: The frame.append method is deprecated and will be removed from pandas in a future version. Use pandas.concat instead.\n",
      "  folds[index].append(last_fold[last_fold['patient_id']==pid])\n",
      "d:\\LabIACD Projeto 1\\LabIACD Project 1\\LabIACD-Project-1\\kfold_and_metrics.py:35: FutureWarning: The frame.append method is deprecated and will be removed from pandas in a future version. Use pandas.concat instead.\n",
      "  folds[index].append(last_fold[last_fold['patient_id']==pid])\n",
      "d:\\LabIACD Projeto 1\\LabIACD Project 1\\LabIACD-Project-1\\kfold_and_metrics.py:35: FutureWarning: The frame.append method is deprecated and will be removed from pandas in a future version. Use pandas.concat instead.\n",
      "  folds[index].append(last_fold[last_fold['patient_id']==pid])\n",
      "d:\\LabIACD Projeto 1\\LabIACD Project 1\\LabIACD-Project-1\\kfold_and_metrics.py:88: FutureWarning: The frame.append method is deprecated and will be removed from pandas in a future version. Use pandas.concat instead.\n",
      "  train_df.append(folds[i])\n",
      "d:\\LabIACD Projeto 1\\LabIACD Project 1\\LabIACD-Project-1\\kfold_and_metrics.py:88: FutureWarning: The frame.append method is deprecated and will be removed from pandas in a future version. Use pandas.concat instead.\n",
      "  train_df.append(folds[i])\n",
      "d:\\LabIACD Projeto 1\\LabIACD Project 1\\LabIACD-Project-1\\kfold_and_metrics.py:88: FutureWarning: The frame.append method is deprecated and will be removed from pandas in a future version. Use pandas.concat instead.\n",
      "  train_df.append(folds[i])\n",
      "d:\\LabIACD Projeto 1\\LabIACD Project 1\\LabIACD-Project-1\\kfold_and_metrics.py:88: FutureWarning: The frame.append method is deprecated and will be removed from pandas in a future version. Use pandas.concat instead.\n",
      "  train_df.append(folds[i])\n",
      "d:\\LabIACD Projeto 1\\LabIACD Project 1\\LabIACD-Project-1\\kfold_and_metrics.py:88: FutureWarning: The frame.append method is deprecated and will be removed from pandas in a future version. Use pandas.concat instead.\n",
      "  train_df.append(folds[i])\n",
      "d:\\LabIACD Projeto 1\\LabIACD Project 1\\LabIACD-Project-1\\kfold_and_metrics.py:88: FutureWarning: The frame.append method is deprecated and will be removed from pandas in a future version. Use pandas.concat instead.\n",
      "  train_df.append(folds[i])\n",
      "d:\\LabIACD Projeto 1\\LabIACD Project 1\\LabIACD-Project-1\\kfold_and_metrics.py:88: FutureWarning: The frame.append method is deprecated and will be removed from pandas in a future version. Use pandas.concat instead.\n",
      "  train_df.append(folds[i])\n",
      "d:\\LabIACD Projeto 1\\LabIACD Project 1\\LabIACD-Project-1\\kfold_and_metrics.py:88: FutureWarning: The frame.append method is deprecated and will be removed from pandas in a future version. Use pandas.concat instead.\n",
      "  train_df.append(folds[i])\n",
      "d:\\LabIACD Projeto 1\\LabIACD Project 1\\LabIACD-Project-1\\kfold_and_metrics.py:88: FutureWarning: The frame.append method is deprecated and will be removed from pandas in a future version. Use pandas.concat instead.\n",
      "  train_df.append(folds[i])\n"
     ]
    },
    {
     "name": "stdout",
     "output_type": "stream",
     "text": [
      "Epoch 1/10\n"
     ]
    },
    {
     "ename": "UnboundLocalError",
     "evalue": "local variable 'logs' referenced before assignment",
     "output_type": "error",
     "traceback": [
      "\u001b[1;31m---------------------------------------------------------------------------\u001b[0m",
      "\u001b[1;31mUnboundLocalError\u001b[0m                         Traceback (most recent call last)",
      "\u001b[1;32md:\\LabIACD Projeto 1\\LabIACD Project 1\\LabIACD-Project-1\\neural_networks.ipynb Cell 4\u001b[0m line \u001b[0;36m1\n\u001b[1;32m----> <a href='vscode-notebook-cell:/d%3A/LabIACD%20Projeto%201/LabIACD%20Project%201/LabIACD-Project-1/neural_networks.ipynb#W3sZmlsZQ%3D%3D?line=0'>1</a>\u001b[0m model \u001b[39m=\u001b[39m best_nn_params(df)\n",
      "\u001b[1;32md:\\LabIACD Projeto 1\\LabIACD Project 1\\LabIACD-Project-1\\neural_networks.ipynb Cell 4\u001b[0m line \u001b[0;36m2\n\u001b[0;32m     <a href='vscode-notebook-cell:/d%3A/LabIACD%20Projeto%201/LabIACD%20Project%201/LabIACD-Project-1/neural_networks.ipynb#W3sZmlsZQ%3D%3D?line=10'>11</a>\u001b[0m nn_model \u001b[39m=\u001b[39m tf\u001b[39m.\u001b[39mkeras\u001b[39m.\u001b[39mmodels\u001b[39m.\u001b[39mSequential([\n\u001b[0;32m     <a href='vscode-notebook-cell:/d%3A/LabIACD%20Projeto%201/LabIACD%20Project%201/LabIACD-Project-1/neural_networks.ipynb#W3sZmlsZQ%3D%3D?line=11'>12</a>\u001b[0m tf\u001b[39m.\u001b[39mkeras\u001b[39m.\u001b[39mlayers\u001b[39m.\u001b[39mFlatten(input_shape\u001b[39m=\u001b[39m(\u001b[39mlen\u001b[39m(df\u001b[39m.\u001b[39mcolumns),)),\n\u001b[0;32m     <a href='vscode-notebook-cell:/d%3A/LabIACD%20Projeto%201/LabIACD%20Project%201/LabIACD-Project-1/neural_networks.ipynb#W3sZmlsZQ%3D%3D?line=12'>13</a>\u001b[0m tf\u001b[39m.\u001b[39mkeras\u001b[39m.\u001b[39mlayers\u001b[39m.\u001b[39mDense(num_nodes_hidden_layer,activation\u001b[39m=\u001b[39mactivation_hidden),\n\u001b[0;32m     <a href='vscode-notebook-cell:/d%3A/LabIACD%20Projeto%201/LabIACD%20Project%201/LabIACD-Project-1/neural_networks.ipynb#W3sZmlsZQ%3D%3D?line=13'>14</a>\u001b[0m tf\u001b[39m.\u001b[39mkeras\u001b[39m.\u001b[39mlayers\u001b[39m.\u001b[39mDense(\u001b[39m2\u001b[39m,activation\u001b[39m=\u001b[39m\u001b[39m'\u001b[39m\u001b[39msoftmax\u001b[39m\u001b[39m'\u001b[39m)\n\u001b[0;32m     <a href='vscode-notebook-cell:/d%3A/LabIACD%20Projeto%201/LabIACD%20Project%201/LabIACD-Project-1/neural_networks.ipynb#W3sZmlsZQ%3D%3D?line=14'>15</a>\u001b[0m ])\n\u001b[0;32m     <a href='vscode-notebook-cell:/d%3A/LabIACD%20Projeto%201/LabIACD%20Project%201/LabIACD-Project-1/neural_networks.ipynb#W3sZmlsZQ%3D%3D?line=16'>17</a>\u001b[0m nn_model\u001b[39m.\u001b[39mcompile(\n\u001b[0;32m     <a href='vscode-notebook-cell:/d%3A/LabIACD%20Projeto%201/LabIACD%20Project%201/LabIACD-Project-1/neural_networks.ipynb#W3sZmlsZQ%3D%3D?line=17'>18</a>\u001b[0m     optimizer\u001b[39m=\u001b[39mtf\u001b[39m.\u001b[39mkeras\u001b[39m.\u001b[39moptimizers\u001b[39m.\u001b[39mSGD(gradient), \n\u001b[0;32m     <a href='vscode-notebook-cell:/d%3A/LabIACD%20Projeto%201/LabIACD%20Project%201/LabIACD-Project-1/neural_networks.ipynb#W3sZmlsZQ%3D%3D?line=18'>19</a>\u001b[0m     loss\u001b[39m=\u001b[39mtf\u001b[39m.\u001b[39mkeras\u001b[39m.\u001b[39mlosses\u001b[39m.\u001b[39mSparseCategoricalCrossentropy(), \n\u001b[0;32m     <a href='vscode-notebook-cell:/d%3A/LabIACD%20Projeto%201/LabIACD%20Project%201/LabIACD-Project-1/neural_networks.ipynb#W3sZmlsZQ%3D%3D?line=19'>20</a>\u001b[0m     metrics\u001b[39m=\u001b[39m[tf\u001b[39m.\u001b[39mkeras\u001b[39m.\u001b[39mmetrics\u001b[39m.\u001b[39mSparseCategoricalAccuracy()]\n\u001b[0;32m     <a href='vscode-notebook-cell:/d%3A/LabIACD%20Projeto%201/LabIACD%20Project%201/LabIACD-Project-1/neural_networks.ipynb#W3sZmlsZQ%3D%3D?line=20'>21</a>\u001b[0m     )\n\u001b[1;32m---> <a href='vscode-notebook-cell:/d%3A/LabIACD%20Projeto%201/LabIACD%20Project%201/LabIACD-Project-1/neural_networks.ipynb#W3sZmlsZQ%3D%3D?line=22'>23</a>\u001b[0m score \u001b[39m=\u001b[39m km\u001b[39m.\u001b[39;49mk_fold_cv_keras(compiled_model\u001b[39m=\u001b[39;49mnn_model, df\u001b[39m=\u001b[39;49mdf)\n\u001b[0;32m     <a href='vscode-notebook-cell:/d%3A/LabIACD%20Projeto%201/LabIACD%20Project%201/LabIACD-Project-1/neural_networks.ipynb#W3sZmlsZQ%3D%3D?line=23'>24</a>\u001b[0m avg, std \u001b[39m=\u001b[39m km\u001b[39m.\u001b[39mweighted_avg_and_std(np\u001b[39m.\u001b[39marray(score[\u001b[39m\"\u001b[39m\u001b[39mroc_auc_score\u001b[39m\u001b[39m\"\u001b[39m]), score[\u001b[39m\"\u001b[39m\u001b[39mweight\u001b[39m\u001b[39m\"\u001b[39m])\n\u001b[0;32m     <a href='vscode-notebook-cell:/d%3A/LabIACD%20Projeto%201/LabIACD%20Project%201/LabIACD-Project-1/neural_networks.ipynb#W3sZmlsZQ%3D%3D?line=25'>26</a>\u001b[0m \u001b[39mif\u001b[39;00m score \u001b[39m>\u001b[39m \u001b[39mmax\u001b[39m:\n",
      "File \u001b[1;32md:\\LabIACD Projeto 1\\LabIACD Project 1\\LabIACD-Project-1\\kfold_and_metrics.py:93\u001b[0m, in \u001b[0;36mk_fold_cv_keras\u001b[1;34m(compiled_model, df, k, metric_funcs, num_epochs)\u001b[0m\n\u001b[0;32m     90\u001b[0m x_train, y_train \u001b[39m=\u001b[39m train_df\u001b[39m.\u001b[39mdrop(columns\u001b[39m=\u001b[39m[\u001b[39m'\u001b[39m\u001b[39mmalignancy\u001b[39m\u001b[39m'\u001b[39m])\u001b[39m.\u001b[39mto_numpy(), np\u001b[39m.\u001b[39marray(\u001b[39mlist\u001b[39m(\u001b[39mmap\u001b[39m(\u001b[39mlambda\u001b[39;00m x: \u001b[39m1\u001b[39m \u001b[39mif\u001b[39;00m x\u001b[39m==\u001b[39m\u001b[39m1\u001b[39m \u001b[39melse\u001b[39;00m \u001b[39m0\u001b[39m, train_df[\u001b[39m'\u001b[39m\u001b[39mmalignancy\u001b[39m\u001b[39m'\u001b[39m]\u001b[39m.\u001b[39mto_list())))\u001b[39m.\u001b[39mastype(\u001b[39m'\u001b[39m\u001b[39mfloat32\u001b[39m\u001b[39m'\u001b[39m)\n\u001b[0;32m     91\u001b[0m x_test, y_test \u001b[39m=\u001b[39m test_df\u001b[39m.\u001b[39mdrop(columns\u001b[39m=\u001b[39m[\u001b[39m'\u001b[39m\u001b[39mmalignancy\u001b[39m\u001b[39m'\u001b[39m])\u001b[39m.\u001b[39mto_numpy(), np\u001b[39m.\u001b[39marray(\u001b[39mlist\u001b[39m(\u001b[39mmap\u001b[39m(\u001b[39mlambda\u001b[39;00m x: \u001b[39m1\u001b[39m \u001b[39mif\u001b[39;00m x\u001b[39m==\u001b[39m\u001b[39m1\u001b[39m \u001b[39melse\u001b[39;00m \u001b[39m0\u001b[39m, test_df[\u001b[39m'\u001b[39m\u001b[39mmalignancy\u001b[39m\u001b[39m'\u001b[39m]\u001b[39m.\u001b[39mto_list())))\u001b[39m.\u001b[39mastype(\u001b[39m'\u001b[39m\u001b[39mfloat32\u001b[39m\u001b[39m'\u001b[39m)\n\u001b[1;32m---> 93\u001b[0m history \u001b[39m=\u001b[39m compiled_model\u001b[39m.\u001b[39;49mfit(\n\u001b[0;32m     94\u001b[0m     x_train, \n\u001b[0;32m     95\u001b[0m     y_train, \n\u001b[0;32m     96\u001b[0m     epochs\u001b[39m=\u001b[39;49mnum_epochs,\n\u001b[0;32m     97\u001b[0m     batch_size\u001b[39m=\u001b[39;49mfold\u001b[39m.\u001b[39;49mshape[\u001b[39m0\u001b[39;49m],\n\u001b[0;32m     98\u001b[0m     validation_data\u001b[39m=\u001b[39;49m(x_test,y_test)\n\u001b[0;32m     99\u001b[0m )\n\u001b[0;32m    100\u001b[0m y_pred \u001b[39m=\u001b[39m compiled_model\u001b[39m.\u001b[39mpredict_classes(x_test, batch_size\u001b[39m=\u001b[39mx_test\u001b[39m.\u001b[39mshape[\u001b[39m0\u001b[39m])\n\u001b[0;32m    102\u001b[0m \u001b[39mfor\u001b[39;00m metric_fn \u001b[39min\u001b[39;00m metric_funcs:\n",
      "File \u001b[1;32md:\\anaconda\\envs\\ML2\\lib\\site-packages\\tensorflow\\python\\keras\\engine\\training.py:108\u001b[0m, in \u001b[0;36menable_multi_worker.<locals>._method_wrapper\u001b[1;34m(self, *args, **kwargs)\u001b[0m\n\u001b[0;32m    106\u001b[0m \u001b[39mdef\u001b[39;00m \u001b[39m_method_wrapper\u001b[39m(\u001b[39mself\u001b[39m, \u001b[39m*\u001b[39margs, \u001b[39m*\u001b[39m\u001b[39m*\u001b[39mkwargs):\n\u001b[0;32m    107\u001b[0m   \u001b[39mif\u001b[39;00m \u001b[39mnot\u001b[39;00m \u001b[39mself\u001b[39m\u001b[39m.\u001b[39m_in_multi_worker_mode():  \u001b[39m# pylint: disable=protected-access\u001b[39;00m\n\u001b[1;32m--> 108\u001b[0m     \u001b[39mreturn\u001b[39;00m method(\u001b[39mself\u001b[39;49m, \u001b[39m*\u001b[39;49margs, \u001b[39m*\u001b[39;49m\u001b[39m*\u001b[39;49mkwargs)\n\u001b[0;32m    110\u001b[0m   \u001b[39m# Running inside `run_distribute_coordinator` already.\u001b[39;00m\n\u001b[0;32m    111\u001b[0m   \u001b[39mif\u001b[39;00m dc_context\u001b[39m.\u001b[39mget_current_worker_context():\n",
      "File \u001b[1;32md:\\anaconda\\envs\\ML2\\lib\\site-packages\\tensorflow\\python\\keras\\engine\\training.py:1104\u001b[0m, in \u001b[0;36mModel.fit\u001b[1;34m(self, x, y, batch_size, epochs, verbose, callbacks, validation_split, validation_data, shuffle, class_weight, sample_weight, initial_epoch, steps_per_epoch, validation_steps, validation_batch_size, validation_freq, max_queue_size, workers, use_multiprocessing)\u001b[0m\n\u001b[0;32m   1102\u001b[0m       end_step \u001b[39m=\u001b[39m step \u001b[39m+\u001b[39m data_handler\u001b[39m.\u001b[39mstep_increment\n\u001b[0;32m   1103\u001b[0m       callbacks\u001b[39m.\u001b[39mon_train_batch_end(end_step, logs)\n\u001b[1;32m-> 1104\u001b[0m epoch_logs \u001b[39m=\u001b[39m copy\u001b[39m.\u001b[39mcopy(logs)\n\u001b[0;32m   1106\u001b[0m \u001b[39m# Run validation.\u001b[39;00m\n\u001b[0;32m   1107\u001b[0m \u001b[39mif\u001b[39;00m validation_data \u001b[39mand\u001b[39;00m \u001b[39mself\u001b[39m\u001b[39m.\u001b[39m_should_eval(epoch, validation_freq):\n\u001b[0;32m   1108\u001b[0m   \u001b[39m# Create data_handler for evaluation and cache it.\u001b[39;00m\n",
      "\u001b[1;31mUnboundLocalError\u001b[0m: local variable 'logs' referenced before assignment"
     ]
    }
   ],
   "source": [
    "model = best_nn_params(df)"
   ]
  }
 ],
 "metadata": {
  "kernelspec": {
   "display_name": "lab_lungcancer",
   "language": "python",
   "name": "python3"
  },
  "language_info": {
   "codemirror_mode": {
    "name": "ipython",
    "version": 3
   },
   "file_extension": ".py",
   "mimetype": "text/x-python",
   "name": "python",
   "nbconvert_exporter": "python",
   "pygments_lexer": "ipython3",
   "version": "3.8.18"
  }
 },
 "nbformat": 4,
 "nbformat_minor": 2
}
