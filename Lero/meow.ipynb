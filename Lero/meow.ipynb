{
 "cells": [
  {
   "cell_type": "code",
   "execution_count": 1,
   "metadata": {},
   "outputs": [],
   "source": [
    "import numpy as np\n",
    "import pandas as pd\n",
    "import matplotlib.pyplot as plt\n",
    "import seaborn as sns"
   ]
  },
  {
   "cell_type": "code",
   "execution_count": 2,
   "metadata": {},
   "outputs": [
    {
     "name": "stdout",
     "output_type": "stream",
     "text": [
      "(4218, 16)\n",
      "(4696, 1599)\n"
     ]
    },
    {
     "name": "stderr",
     "output_type": "stream",
     "text": [
      "C:\\Users\\anton\\AppData\\Local\\Temp\\ipykernel_2724\\3739568341.py:3: DtypeWarning: Columns (38,39,40,41,47) have mixed types. Specify dtype option on import or set low_memory=False.\n",
      "  b = pd.read_csv('rad.csv', index_col=False)\n"
     ]
    }
   ],
   "source": [
    "# Visualize the shape of each dataset \n",
    "a = pd.read_csv('pylidc.csv', index_col=False)\n",
    "b = pd.read_csv('rad.csv', index_col=False)\n",
    "print(a.shape)\n",
    "print(b.shape)"
   ]
  },
  {
   "cell_type": "code",
   "execution_count": 3,
   "metadata": {},
   "outputs": [
    {
     "data": {
      "text/plain": [
       "(2948, 1614)"
      ]
     },
     "execution_count": 3,
     "metadata": {},
     "output_type": "execute_result"
    }
   ],
   "source": [
    "# Merge the datasets on their ID\n",
    "df = b.merge(a, left_on='id', right_on='Id')\n",
    "df = df.drop(columns=['Id'])\n",
    "df.shape"
   ]
  },
  {
   "cell_type": "code",
   "execution_count": 4,
   "metadata": {},
   "outputs": [
    {
     "name": "stdout",
     "output_type": "stream",
     "text": [
      "287\n"
     ]
    }
   ],
   "source": [
    "# Figuring out the amount of columns that contain Null values\n",
    "count = 0\n",
    "for c in df.columns:\n",
    "    n = df[c].isnull().sum()\n",
    "    if n > 0: \n",
    "        count +=1\n",
    "\n",
    "print(count)"
   ]
  },
  {
   "cell_type": "code",
   "execution_count": 5,
   "metadata": {},
   "outputs": [
    {
     "name": "stdout",
     "output_type": "stream",
     "text": [
      "(2948, 1313)\n",
      "Total number of columns deleted: 301\n"
     ]
    }
   ],
   "source": [
    "# Removing columns with missing values and useless information \n",
    "count = 0\n",
    "df = df.drop(columns = 'diagnostics_Mask-original_Hash')\n",
    "count += 1\n",
    "\n",
    "# Removing all the columns thar are constant in the dataframe\n",
    "for col in df.columns:\n",
    "    if len(df[col].unique()) == 1:\n",
    "        df = df.drop(columns=col)\n",
    "        count += 1\n",
    "\n",
    "# Removing all the columns with null values\n",
    "for col in df.columns:\n",
    "    nul = df[col].isnull().sum()\n",
    "    if nul > 0:\n",
    "        df = df.drop(columns=[col])\n",
    "        count += 1\n",
    "\n",
    "print(df.shape)\n",
    "print(f\"Total number of columns deleted: {count}\")"
   ]
  },
  {
   "cell_type": "code",
   "execution_count": 6,
   "metadata": {},
   "outputs": [
    {
     "data": {
      "image/png": "[encoded data removed]",
      "text/plain": [
       "<Figure size 640x480 with 1 Axes>"
      ]
     },
     "metadata": {},
     "output_type": "display_data"
    },
    {
     "name": "stdout",
     "output_type": "stream",
     "text": [
      "[-1  1] [1929 1019]\n"
     ]
    }
   ],
   "source": [
    "# Plotting the label class\n",
    "unique_labels, counts = np.unique(df.malignancy, return_counts=True)\n",
    "plt.bar(unique_labels, counts)\n",
    "plt.xlabel('Class label')\n",
    "plt.ylabel('Number of samples')\n",
    "plt.title('Class distribution in dataset')\n",
    "plt.show()\n",
    "\n",
    "print(unique_labels, counts)"
   ]
  },
  {
   "cell_type": "code",
   "execution_count": 7,
   "metadata": {},
   "outputs": [
    {
     "data": {
      "text/plain": [
       "435"
      ]
     },
     "execution_count": 7,
     "metadata": {},
     "output_type": "execute_result"
    }
   ],
   "source": [
    "# Number of individual patients in the training set\n",
    "len(df['patient_id'].unique())\n"
   ]
  },
  {
   "cell_type": "code",
   "execution_count": 8,
   "metadata": {},
   "outputs": [
    {
     "name": "stderr",
     "output_type": "stream",
     "text": [
      "C:\\Users\\anton\\AppData\\Local\\Temp\\ipykernel_2724\\1515231457.py:2: FutureWarning: The default value of numeric_only in DataFrame.corr is deprecated. In a future version, it will default to False. Select only valid columns or specify the value of numeric_only to silence this warning.\n",
      "  cor = df.corr()['malignancy']\n"
     ]
    }
   ],
   "source": [
    "# Correlation with the target variable\n",
    "cor = df.corr()['malignancy'] \n",
    "\n",
    "# Removing the columns with corr lower than the 0.2\n",
    "columns_to_remove = cor[(abs(cor) <= 0.2)].index\n",
    "df_filtered = df.drop(columns = columns_to_remove)\n",
    "\n",
    "# Save the filtered DataFrame to a new CSV file\n",
    "#df_filtered.to_csv('final_data.csv', sep=',', index=False)"
   ]
  },
  {
   "cell_type": "code",
   "execution_count": 9,
   "metadata": {},
   "outputs": [
    {
     "data": {
      "text/plain": [
       "float64    1281\n",
       "object       19\n",
       "int64        13\n",
       "dtype: int64"
      ]
     },
     "execution_count": 9,
     "metadata": {},
     "output_type": "execute_result"
    }
   ],
   "source": [
    "df.dtypes.value_counts()\n",
    "# We need to be careful while working with strings/object types"
   ]
  },
  {
   "cell_type": "code",
   "execution_count": 10,
   "metadata": {},
   "outputs": [
    {
     "name": "stdout",
     "output_type": "stream",
     "text": [
      "Index(['id', 'diagnostics_Mask-original_Spacing',\n",
      "       'diagnostics_Mask-original_Size',\n",
      "       'diagnostics_Mask-original_BoundingBox',\n",
      "       'diagnostics_Mask-original_CenterOfMassIndex',\n",
      "       'diagnostics_Mask-original_CenterOfMass',\n",
      "       'diagnostics_Image-interpolated_Spacing',\n",
      "       'diagnostics_Image-interpolated_Size',\n",
      "       'diagnostics_Mask-interpolated_Spacing',\n",
      "       'diagnostics_Mask-interpolated_Size',\n",
      "       'diagnostics_Mask-interpolated_BoundingBox',\n",
      "       'diagnostics_Mask-interpolated_CenterOfMassIndex',\n",
      "       'diagnostics_Mask-interpolated_CenterOfMass',\n",
      "       'original_shape_Elongation', 'original_shape_Flatness',\n",
      "       'original_shape_LeastAxisLength', 'original_shape_MajorAxisLength',\n",
      "       'original_shape_MinorAxisLength', 'patient_id'],\n",
      "      dtype='object')\n"
     ]
    }
   ],
   "source": [
    "g = df.columns.to_series().groupby(df.dtypes).groups\n",
    "\n",
    "# finding out all the columns that are an object type\n",
    "for key, value in g.items():\n",
    "    if key == 'object':\n",
    "        print(value)"
   ]
  },
  {
   "cell_type": "code",
   "execution_count": 11,
   "metadata": {},
   "outputs": [],
   "source": [
    "object_columns = ['diagnostics_Mask-original_Spacing',\n",
    "       'diagnostics_Mask-original_Size',\n",
    "       'diagnostics_Mask-original_BoundingBox',\n",
    "       'diagnostics_Mask-original_CenterOfMassIndex',\n",
    "       'diagnostics_Mask-original_CenterOfMass',\n",
    "       'diagnostics_Image-interpolated_Spacing',\n",
    "       'diagnostics_Image-interpolated_Size',\n",
    "       'diagnostics_Mask-interpolated_Spacing',\n",
    "       'diagnostics_Mask-interpolated_Size',\n",
    "       'diagnostics_Mask-interpolated_BoundingBox',\n",
    "       'diagnostics_Mask-interpolated_CenterOfMassIndex',\n",
    "       'diagnostics_Mask-interpolated_CenterOfMass',\n",
    "       'original_shape_Elongation', 'original_shape_Flatness',\n",
    "       'original_shape_LeastAxisLength', 'original_shape_MajorAxisLength',\n",
    "       'original_shape_MinorAxisLength']\n",
    "\n",
    "object = df[object_columns]\n",
    "new_df = df.drop(columns = object_columns)"
   ]
  },
  {
   "cell_type": "code",
   "execution_count": 12,
   "metadata": {},
   "outputs": [
    {
     "name": "stderr",
     "output_type": "stream",
     "text": [
      "C:\\Users\\anton\\AppData\\Local\\Temp\\ipykernel_2724\\927926733.py:24: SettingWithCopyWarning: \n",
      "A value is trying to be set on a copy of a slice from a DataFrame.\n",
      "Try using .loc[row_indexer,col_indexer] = value instead\n",
      "\n",
      "See the caveats in the documentation: https://pandas.pydata.org/pandas-docs/stable/user_guide/indexing.html#returning-a-view-versus-a-copy\n",
      "  normalized[list[k1]] = values[k1]\n",
      "C:\\Users\\anton\\AppData\\Local\\Temp\\ipykernel_2724\\927926733.py:24: SettingWithCopyWarning: \n",
      "A value is trying to be set on a copy of a slice from a DataFrame.\n",
      "Try using .loc[row_indexer,col_indexer] = value instead\n",
      "\n",
      "See the caveats in the documentation: https://pandas.pydata.org/pandas-docs/stable/user_guide/indexing.html#returning-a-view-versus-a-copy\n",
      "  normalized[list[k1]] = values[k1]\n",
      "C:\\Users\\anton\\AppData\\Local\\Temp\\ipykernel_2724\\927926733.py:24: SettingWithCopyWarning: \n",
      "A value is trying to be set on a copy of a slice from a DataFrame.\n",
      "Try using .loc[row_indexer,col_indexer] = value instead\n",
      "\n",
      "See the caveats in the documentation: https://pandas.pydata.org/pandas-docs/stable/user_guide/indexing.html#returning-a-view-versus-a-copy\n",
      "  normalized[list[k1]] = values[k1]\n"
     ]
    },
    {
     "data": {
      "text/html": [
       "<div>\n",
       "<style scoped>\n",
       "    .dataframe tbody tr th:only-of-type {\n",
       "        vertical-align: middle;\n",
       "    }\n",
       "\n",
       "    .dataframe tbody tr th {\n",
       "        vertical-align: top;\n",
       "    }\n",
       "\n",
       "    .dataframe thead th {\n",
       "        text-align: right;\n",
       "    }\n",
       "</style>\n",
       "<table border=\"1\" class=\"dataframe\">\n",
       "  <thead>\n",
       "    <tr style=\"text-align: right;\">\n",
       "      <th></th>\n",
       "      <th>diagnostics_Mask-original_Spacing_0</th>\n",
       "      <th>diagnostics_Mask-original_Spacing_1</th>\n",
       "      <th>diagnostics_Mask-original_Spacing_2</th>\n",
       "      <th>diagnostics_Mask-original_Size_0</th>\n",
       "      <th>diagnostics_Mask-original_Size_1</th>\n",
       "      <th>diagnostics_Mask-original_Size_2</th>\n",
       "      <th>diagnostics_Mask-original_BoundingBox_0</th>\n",
       "      <th>diagnostics_Mask-original_BoundingBox_1</th>\n",
       "      <th>diagnostics_Mask-original_BoundingBox_2</th>\n",
       "      <th>diagnostics_Mask-original_BoundingBox_3</th>\n",
       "      <th>...</th>\n",
       "      <th>diagnostics_Mask-interpolated_BoundingBox_2</th>\n",
       "      <th>diagnostics_Mask-interpolated_BoundingBox_3</th>\n",
       "      <th>diagnostics_Mask-interpolated_BoundingBox_4</th>\n",
       "      <th>diagnostics_Mask-interpolated_BoundingBox_5</th>\n",
       "      <th>diagnostics_Mask-interpolated_CenterOfMassIndex_0</th>\n",
       "      <th>diagnostics_Mask-interpolated_CenterOfMassIndex_1</th>\n",
       "      <th>diagnostics_Mask-interpolated_CenterOfMassIndex_2</th>\n",
       "      <th>diagnostics_Mask-interpolated_CenterOfMass_0</th>\n",
       "      <th>diagnostics_Mask-interpolated_CenterOfMass_1</th>\n",
       "      <th>diagnostics_Mask-interpolated_CenterOfMass_2</th>\n",
       "    </tr>\n",
       "  </thead>\n",
       "  <tbody>\n",
       "    <tr>\n",
       "      <th>0</th>\n",
       "      <td>0.859375</td>\n",
       "      <td>0.859375</td>\n",
       "      <td>2.5</td>\n",
       "      <td>512.0</td>\n",
       "      <td>512.0</td>\n",
       "      <td>8.0</td>\n",
       "      <td>390.0</td>\n",
       "      <td>284.0</td>\n",
       "      <td>0.0</td>\n",
       "      <td>32.0</td>\n",
       "      <td>...</td>\n",
       "      <td>0.0</td>\n",
       "      <td>13.0</td>\n",
       "      <td>11.0</td>\n",
       "      <td>10.0</td>\n",
       "      <td>17.041265</td>\n",
       "      <td>16.108666</td>\n",
       "      <td>4.184319</td>\n",
       "      <td>128.652843</td>\n",
       "      <td>34.787644</td>\n",
       "      <td>-229.881362</td>\n",
       "    </tr>\n",
       "    <tr>\n",
       "      <th>1</th>\n",
       "      <td>0.859375</td>\n",
       "      <td>0.859375</td>\n",
       "      <td>2.5</td>\n",
       "      <td>512.0</td>\n",
       "      <td>512.0</td>\n",
       "      <td>8.0</td>\n",
       "      <td>390.0</td>\n",
       "      <td>284.0</td>\n",
       "      <td>0.0</td>\n",
       "      <td>32.0</td>\n",
       "      <td>...</td>\n",
       "      <td>0.0</td>\n",
       "      <td>13.0</td>\n",
       "      <td>11.0</td>\n",
       "      <td>10.0</td>\n",
       "      <td>17.041265</td>\n",
       "      <td>16.108666</td>\n",
       "      <td>4.184319</td>\n",
       "      <td>128.652843</td>\n",
       "      <td>34.787644</td>\n",
       "      <td>-229.881362</td>\n",
       "    </tr>\n",
       "    <tr>\n",
       "      <th>2</th>\n",
       "      <td>0.859375</td>\n",
       "      <td>0.859375</td>\n",
       "      <td>2.5</td>\n",
       "      <td>512.0</td>\n",
       "      <td>512.0</td>\n",
       "      <td>8.0</td>\n",
       "      <td>390.0</td>\n",
       "      <td>284.0</td>\n",
       "      <td>0.0</td>\n",
       "      <td>32.0</td>\n",
       "      <td>...</td>\n",
       "      <td>0.0</td>\n",
       "      <td>13.0</td>\n",
       "      <td>11.0</td>\n",
       "      <td>10.0</td>\n",
       "      <td>17.041265</td>\n",
       "      <td>16.108666</td>\n",
       "      <td>4.184319</td>\n",
       "      <td>128.652843</td>\n",
       "      <td>34.787644</td>\n",
       "      <td>-229.881362</td>\n",
       "    </tr>\n",
       "    <tr>\n",
       "      <th>3</th>\n",
       "      <td>0.859375</td>\n",
       "      <td>0.859375</td>\n",
       "      <td>2.5</td>\n",
       "      <td>512.0</td>\n",
       "      <td>512.0</td>\n",
       "      <td>8.0</td>\n",
       "      <td>390.0</td>\n",
       "      <td>284.0</td>\n",
       "      <td>0.0</td>\n",
       "      <td>32.0</td>\n",
       "      <td>...</td>\n",
       "      <td>0.0</td>\n",
       "      <td>13.0</td>\n",
       "      <td>11.0</td>\n",
       "      <td>10.0</td>\n",
       "      <td>17.041265</td>\n",
       "      <td>16.108666</td>\n",
       "      <td>4.184319</td>\n",
       "      <td>128.652843</td>\n",
       "      <td>34.787644</td>\n",
       "      <td>-229.881362</td>\n",
       "    </tr>\n",
       "    <tr>\n",
       "      <th>4</th>\n",
       "      <td>0.859375</td>\n",
       "      <td>0.859375</td>\n",
       "      <td>2.5</td>\n",
       "      <td>512.0</td>\n",
       "      <td>512.0</td>\n",
       "      <td>8.0</td>\n",
       "      <td>390.0</td>\n",
       "      <td>284.0</td>\n",
       "      <td>0.0</td>\n",
       "      <td>32.0</td>\n",
       "      <td>...</td>\n",
       "      <td>0.0</td>\n",
       "      <td>13.0</td>\n",
       "      <td>11.0</td>\n",
       "      <td>10.0</td>\n",
       "      <td>17.041265</td>\n",
       "      <td>16.108666</td>\n",
       "      <td>4.184319</td>\n",
       "      <td>128.652843</td>\n",
       "      <td>34.787644</td>\n",
       "      <td>-229.881362</td>\n",
       "    </tr>\n",
       "  </tbody>\n",
       "</table>\n",
       "<p>5 rows × 42 columns</p>\n",
       "</div>"
      ],
      "text/plain": [
       "   diagnostics_Mask-original_Spacing_0  diagnostics_Mask-original_Spacing_1  \\\n",
       "0                             0.859375                             0.859375   \n",
       "1                             0.859375                             0.859375   \n",
       "2                             0.859375                             0.859375   \n",
       "3                             0.859375                             0.859375   \n",
       "4                             0.859375                             0.859375   \n",
       "\n",
       "   diagnostics_Mask-original_Spacing_2  diagnostics_Mask-original_Size_0  \\\n",
       "0                                  2.5                             512.0   \n",
       "1                                  2.5                             512.0   \n",
       "2                                  2.5                             512.0   \n",
       "3                                  2.5                             512.0   \n",
       "4                                  2.5                             512.0   \n",
       "\n",
       "   diagnostics_Mask-original_Size_1  diagnostics_Mask-original_Size_2  \\\n",
       "0                             512.0                               8.0   \n",
       "1                             512.0                               8.0   \n",
       "2                             512.0                               8.0   \n",
       "3                             512.0                               8.0   \n",
       "4                             512.0                               8.0   \n",
       "\n",
       "   diagnostics_Mask-original_BoundingBox_0  \\\n",
       "0                                    390.0   \n",
       "1                                    390.0   \n",
       "2                                    390.0   \n",
       "3                                    390.0   \n",
       "4                                    390.0   \n",
       "\n",
       "   diagnostics_Mask-original_BoundingBox_1  \\\n",
       "0                                    284.0   \n",
       "1                                    284.0   \n",
       "2                                    284.0   \n",
       "3                                    284.0   \n",
       "4                                    284.0   \n",
       "\n",
       "   diagnostics_Mask-original_BoundingBox_2  \\\n",
       "0                                      0.0   \n",
       "1                                      0.0   \n",
       "2                                      0.0   \n",
       "3                                      0.0   \n",
       "4                                      0.0   \n",
       "\n",
       "   diagnostics_Mask-original_BoundingBox_3  ...  \\\n",
       "0                                     32.0  ...   \n",
       "1                                     32.0  ...   \n",
       "2                                     32.0  ...   \n",
       "3                                     32.0  ...   \n",
       "4                                     32.0  ...   \n",
       "\n",
       "   diagnostics_Mask-interpolated_BoundingBox_2  \\\n",
       "0                                          0.0   \n",
       "1                                          0.0   \n",
       "2                                          0.0   \n",
       "3                                          0.0   \n",
       "4                                          0.0   \n",
       "\n",
       "   diagnostics_Mask-interpolated_BoundingBox_3  \\\n",
       "0                                         13.0   \n",
       "1                                         13.0   \n",
       "2                                         13.0   \n",
       "3                                         13.0   \n",
       "4                                         13.0   \n",
       "\n",
       "   diagnostics_Mask-interpolated_BoundingBox_4  \\\n",
       "0                                         11.0   \n",
       "1                                         11.0   \n",
       "2                                         11.0   \n",
       "3                                         11.0   \n",
       "4                                         11.0   \n",
       "\n",
       "   diagnostics_Mask-interpolated_BoundingBox_5  \\\n",
       "0                                         10.0   \n",
       "1                                         10.0   \n",
       "2                                         10.0   \n",
       "3                                         10.0   \n",
       "4                                         10.0   \n",
       "\n",
       "   diagnostics_Mask-interpolated_CenterOfMassIndex_0  \\\n",
       "0                                          17.041265   \n",
       "1                                          17.041265   \n",
       "2                                          17.041265   \n",
       "3                                          17.041265   \n",
       "4                                          17.041265   \n",
       "\n",
       "   diagnostics_Mask-interpolated_CenterOfMassIndex_1  \\\n",
       "0                                          16.108666   \n",
       "1                                          16.108666   \n",
       "2                                          16.108666   \n",
       "3                                          16.108666   \n",
       "4                                          16.108666   \n",
       "\n",
       "   diagnostics_Mask-interpolated_CenterOfMassIndex_2  \\\n",
       "0                                           4.184319   \n",
       "1                                           4.184319   \n",
       "2                                           4.184319   \n",
       "3                                           4.184319   \n",
       "4                                           4.184319   \n",
       "\n",
       "   diagnostics_Mask-interpolated_CenterOfMass_0  \\\n",
       "0                                    128.652843   \n",
       "1                                    128.652843   \n",
       "2                                    128.652843   \n",
       "3                                    128.652843   \n",
       "4                                    128.652843   \n",
       "\n",
       "   diagnostics_Mask-interpolated_CenterOfMass_1  \\\n",
       "0                                     34.787644   \n",
       "1                                     34.787644   \n",
       "2                                     34.787644   \n",
       "3                                     34.787644   \n",
       "4                                     34.787644   \n",
       "\n",
       "   diagnostics_Mask-interpolated_CenterOfMass_2  \n",
       "0                                   -229.881362  \n",
       "1                                   -229.881362  \n",
       "2                                   -229.881362  \n",
       "3                                   -229.881362  \n",
       "4                                   -229.881362  \n",
       "\n",
       "[5 rows x 42 columns]"
      ]
     },
     "execution_count": 12,
     "metadata": {},
     "output_type": "execute_result"
    }
   ],
   "source": [
    "normalized = df[object_columns]\n",
    "\n",
    "# Tranforming string type columns '(x, y, z)' in separate columns x, y and z\n",
    "for j in range(0, 12):\n",
    "    col = normalized[object_columns[j]]\n",
    "\n",
    "   # Count the commas in the string\n",
    "    comma_count = col.iloc[0].count(',')\n",
    "\n",
    "    # Defining the names for the new cloumns  \n",
    "    list = []\n",
    "    for i in range(comma_count + 1):\n",
    "        name = object_columns[j] + \"_\" + str(i)\n",
    "        list.append(name)\n",
    "\n",
    "    for k in range(len(normalized)):\n",
    "        s = col.iloc[k]\n",
    "\n",
    "        # Split the 'coordinates' column into separate columns\n",
    "        s = s.strip('()')\n",
    "        values = [float(idx) for idx in s.split(', ')]\n",
    "        \n",
    "        for k1 in range(len(list)):\n",
    "            normalized[list[k1]] = values[k1]\n",
    "\n",
    "    normalized = normalized.drop(columns= object_columns[j])\n",
    "\n",
    "# Dropping other comlumns with questionable data \n",
    "normalized = normalized.drop(columns= normalized.columns[0:5])\n",
    "\n",
    "normalized.head()"
   ]
  },
  {
   "cell_type": "code",
   "execution_count": 13,
   "metadata": {},
   "outputs": [
    {
     "name": "stdout",
     "output_type": "stream",
     "text": [
      "float64    1323\n",
      "int64        13\n",
      "object        2\n",
      "dtype: int64\n",
      "(2948, 1338)\n"
     ]
    }
   ],
   "source": [
    "final = pd.concat([new_df, normalized], axis=1)\n",
    "print(final.dtypes.value_counts())\n",
    "print(final.shape)\n",
    "# These 2 objects types corresponde to the id and the patient_id"
   ]
  },
  {
   "cell_type": "code",
   "execution_count": 14,
   "metadata": {},
   "outputs": [
    {
     "data": {
      "text/plain": [
       "(2948, 1131)"
      ]
     },
     "execution_count": 14,
     "metadata": {},
     "output_type": "execute_result"
    }
   ],
   "source": [
    "# Removing all the columns with correlation lower that 0.05\n",
    "index = final[['id', 'patient_id']]\n",
    "features = final.drop(columns=['id', 'patient_id'])\n",
    "\n",
    "# Calculate the correlation between features and the target variable\n",
    "correlations = features.corr()['malignancy']\n",
    "\n",
    "# Identify features with correlation less than 0.05\n",
    "features_to_remove = correlations[abs(correlations) < 0.05].index\n",
    "\n",
    "# Remove the identified features from the DataFrame\n",
    "df_filtered = features.drop(columns=features_to_remove)\n",
    "\n",
    "df_filtered.shape\n"
   ]
  },
  {
   "cell_type": "code",
   "execution_count": 15,
   "metadata": {},
   "outputs": [],
   "source": [
    "new_final = pd.concat([index, features], axis=1) "
   ]
  },
  {
   "cell_type": "code",
   "execution_count": 16,
   "metadata": {},
   "outputs": [],
   "source": [
    "new_final.to_csv('final.csv', sep=',', index=False)"
   ]
  }
 ],
 "metadata": {
  "kernelspec": {
   "display_name": "base",
   "language": "python",
   "name": "python3"
  },
  "language_info": {
   "codemirror_mode": {
    "name": "ipython",
    "version": 3
   },
   "file_extension": ".py",
   "mimetype": "text/x-python",
   "name": "python",
   "nbconvert_exporter": "python",
   "pygments_lexer": "ipython3",
   "version": "3.10.9"
  }
 },
 "nbformat": 4,
 "nbformat_minor": 2
}
