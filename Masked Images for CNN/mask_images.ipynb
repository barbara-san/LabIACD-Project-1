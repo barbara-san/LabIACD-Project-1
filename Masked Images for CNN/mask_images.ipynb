{
 "cells": [
  {
   "cell_type": "code",
   "execution_count": 2,
   "metadata": {},
   "outputs": [],
   "source": [
    "import numpy as np\n",
    "#import pylidc as pl\n",
    "import matplotlib.pyplot as plt\n",
    "import matplotlib.image as mpimg\n",
    "import pickle\n",
    "import math\n",
    "import pandas as pd"
   ]
  },
  {
   "cell_type": "code",
   "execution_count": 3,
   "metadata": {},
   "outputs": [
    {
     "ename": "FileNotFoundError",
     "evalue": "[Errno 2] No such file or directory: 'tcia-diagnosis-data-2012-04-20.xls'",
     "output_type": "error",
     "traceback": [
      "\u001b[1;31m---------------------------------------------------------------------------\u001b[0m",
      "\u001b[1;31mFileNotFoundError\u001b[0m                         Traceback (most recent call last)",
      "\u001b[1;32md:\\LabIACD Projeto 1\\LabIACD Project 1\\LabIACD-Project-1\\Masked Images for CNN\\mask_images.ipynb Cell 2\u001b[0m line \u001b[0;36m1\n\u001b[1;32m----> <a href='vscode-notebook-cell:/d%3A/LabIACD%20Projeto%201/LabIACD%20Project%201/LabIACD-Project-1/Masked%20Images%20for%20CNN/mask_images.ipynb#W1sZmlsZQ%3D%3D?line=0'>1</a>\u001b[0m df_classified \u001b[39m=\u001b[39m pd\u001b[39m.\u001b[39;49mread_excel(\u001b[39m\"\u001b[39;49m\u001b[39mtcia-diagnosis-data-2012-04-20.xls\u001b[39;49m\u001b[39m\"\u001b[39;49m)\n\u001b[0;32m      <a href='vscode-notebook-cell:/d%3A/LabIACD%20Projeto%201/LabIACD%20Project%201/LabIACD-Project-1/Masked%20Images%20for%20CNN/mask_images.ipynb#W1sZmlsZQ%3D%3D?line=1'>2</a>\u001b[0m classified_examples_list \u001b[39m=\u001b[39m df_classified\u001b[39m.\u001b[39miloc[:, \u001b[39m0\u001b[39m]\u001b[39m.\u001b[39mto_list()\n\u001b[0;32m      <a href='vscode-notebook-cell:/d%3A/LabIACD%20Projeto%201/LabIACD%20Project%201/LabIACD-Project-1/Masked%20Images%20for%20CNN/mask_images.ipynb#W1sZmlsZQ%3D%3D?line=3'>4</a>\u001b[0m df_annotations \u001b[39m=\u001b[39m pd\u001b[39m.\u001b[39mread_csv(\u001b[39m\"\u001b[39m\u001b[39mLabIACD Project 1/LabIACD-Project-1/Data/features.csv\u001b[39m\u001b[39m\"\u001b[39m)\n",
      "File \u001b[1;32md:\\anaconda\\envs\\ML2\\lib\\site-packages\\pandas\\util\\_decorators.py:311\u001b[0m, in \u001b[0;36mdeprecate_nonkeyword_arguments.<locals>.decorate.<locals>.wrapper\u001b[1;34m(*args, **kwargs)\u001b[0m\n\u001b[0;32m    305\u001b[0m \u001b[39mif\u001b[39;00m \u001b[39mlen\u001b[39m(args) \u001b[39m>\u001b[39m num_allow_args:\n\u001b[0;32m    306\u001b[0m     warnings\u001b[39m.\u001b[39mwarn(\n\u001b[0;32m    307\u001b[0m         msg\u001b[39m.\u001b[39mformat(arguments\u001b[39m=\u001b[39marguments),\n\u001b[0;32m    308\u001b[0m         \u001b[39mFutureWarning\u001b[39;00m,\n\u001b[0;32m    309\u001b[0m         stacklevel\u001b[39m=\u001b[39mstacklevel,\n\u001b[0;32m    310\u001b[0m     )\n\u001b[1;32m--> 311\u001b[0m \u001b[39mreturn\u001b[39;00m func(\u001b[39m*\u001b[39;49margs, \u001b[39m*\u001b[39;49m\u001b[39m*\u001b[39;49mkwargs)\n",
      "File \u001b[1;32md:\\anaconda\\envs\\ML2\\lib\\site-packages\\pandas\\io\\excel\\_base.py:457\u001b[0m, in \u001b[0;36mread_excel\u001b[1;34m(io, sheet_name, header, names, index_col, usecols, squeeze, dtype, engine, converters, true_values, false_values, skiprows, nrows, na_values, keep_default_na, na_filter, verbose, parse_dates, date_parser, thousands, decimal, comment, skipfooter, convert_float, mangle_dupe_cols, storage_options)\u001b[0m\n\u001b[0;32m    455\u001b[0m \u001b[39mif\u001b[39;00m \u001b[39mnot\u001b[39;00m \u001b[39misinstance\u001b[39m(io, ExcelFile):\n\u001b[0;32m    456\u001b[0m     should_close \u001b[39m=\u001b[39m \u001b[39mTrue\u001b[39;00m\n\u001b[1;32m--> 457\u001b[0m     io \u001b[39m=\u001b[39m ExcelFile(io, storage_options\u001b[39m=\u001b[39;49mstorage_options, engine\u001b[39m=\u001b[39;49mengine)\n\u001b[0;32m    458\u001b[0m \u001b[39melif\u001b[39;00m engine \u001b[39mand\u001b[39;00m engine \u001b[39m!=\u001b[39m io\u001b[39m.\u001b[39mengine:\n\u001b[0;32m    459\u001b[0m     \u001b[39mraise\u001b[39;00m \u001b[39mValueError\u001b[39;00m(\n\u001b[0;32m    460\u001b[0m         \u001b[39m\"\u001b[39m\u001b[39mEngine should not be specified when passing \u001b[39m\u001b[39m\"\u001b[39m\n\u001b[0;32m    461\u001b[0m         \u001b[39m\"\u001b[39m\u001b[39man ExcelFile - ExcelFile already has the engine set\u001b[39m\u001b[39m\"\u001b[39m\n\u001b[0;32m    462\u001b[0m     )\n",
      "File \u001b[1;32md:\\anaconda\\envs\\ML2\\lib\\site-packages\\pandas\\io\\excel\\_base.py:1376\u001b[0m, in \u001b[0;36mExcelFile.__init__\u001b[1;34m(self, path_or_buffer, engine, storage_options)\u001b[0m\n\u001b[0;32m   1374\u001b[0m     ext \u001b[39m=\u001b[39m \u001b[39m\"\u001b[39m\u001b[39mxls\u001b[39m\u001b[39m\"\u001b[39m\n\u001b[0;32m   1375\u001b[0m \u001b[39melse\u001b[39;00m:\n\u001b[1;32m-> 1376\u001b[0m     ext \u001b[39m=\u001b[39m inspect_excel_format(\n\u001b[0;32m   1377\u001b[0m         content_or_path\u001b[39m=\u001b[39;49mpath_or_buffer, storage_options\u001b[39m=\u001b[39;49mstorage_options\n\u001b[0;32m   1378\u001b[0m     )\n\u001b[0;32m   1379\u001b[0m     \u001b[39mif\u001b[39;00m ext \u001b[39mis\u001b[39;00m \u001b[39mNone\u001b[39;00m:\n\u001b[0;32m   1380\u001b[0m         \u001b[39mraise\u001b[39;00m \u001b[39mValueError\u001b[39;00m(\n\u001b[0;32m   1381\u001b[0m             \u001b[39m\"\u001b[39m\u001b[39mExcel file format cannot be determined, you must specify \u001b[39m\u001b[39m\"\u001b[39m\n\u001b[0;32m   1382\u001b[0m             \u001b[39m\"\u001b[39m\u001b[39man engine manually.\u001b[39m\u001b[39m\"\u001b[39m\n\u001b[0;32m   1383\u001b[0m         )\n",
      "File \u001b[1;32md:\\anaconda\\envs\\ML2\\lib\\site-packages\\pandas\\io\\excel\\_base.py:1250\u001b[0m, in \u001b[0;36minspect_excel_format\u001b[1;34m(content_or_path, storage_options)\u001b[0m\n\u001b[0;32m   1247\u001b[0m \u001b[39mif\u001b[39;00m \u001b[39misinstance\u001b[39m(content_or_path, \u001b[39mbytes\u001b[39m):\n\u001b[0;32m   1248\u001b[0m     content_or_path \u001b[39m=\u001b[39m BytesIO(content_or_path)\n\u001b[1;32m-> 1250\u001b[0m \u001b[39mwith\u001b[39;00m get_handle(\n\u001b[0;32m   1251\u001b[0m     content_or_path, \u001b[39m\"\u001b[39;49m\u001b[39mrb\u001b[39;49m\u001b[39m\"\u001b[39;49m, storage_options\u001b[39m=\u001b[39;49mstorage_options, is_text\u001b[39m=\u001b[39;49m\u001b[39mFalse\u001b[39;49;00m\n\u001b[0;32m   1252\u001b[0m ) \u001b[39mas\u001b[39;00m handle:\n\u001b[0;32m   1253\u001b[0m     stream \u001b[39m=\u001b[39m handle\u001b[39m.\u001b[39mhandle\n\u001b[0;32m   1254\u001b[0m     stream\u001b[39m.\u001b[39mseek(\u001b[39m0\u001b[39m)\n",
      "File \u001b[1;32md:\\anaconda\\envs\\ML2\\lib\\site-packages\\pandas\\io\\common.py:795\u001b[0m, in \u001b[0;36mget_handle\u001b[1;34m(path_or_buf, mode, encoding, compression, memory_map, is_text, errors, storage_options)\u001b[0m\n\u001b[0;32m    786\u001b[0m         handle \u001b[39m=\u001b[39m \u001b[39mopen\u001b[39m(\n\u001b[0;32m    787\u001b[0m             handle,\n\u001b[0;32m    788\u001b[0m             ioargs\u001b[39m.\u001b[39mmode,\n\u001b[1;32m   (...)\u001b[0m\n\u001b[0;32m    791\u001b[0m             newline\u001b[39m=\u001b[39m\u001b[39m\"\u001b[39m\u001b[39m\"\u001b[39m,\n\u001b[0;32m    792\u001b[0m         )\n\u001b[0;32m    793\u001b[0m     \u001b[39melse\u001b[39;00m:\n\u001b[0;32m    794\u001b[0m         \u001b[39m# Binary mode\u001b[39;00m\n\u001b[1;32m--> 795\u001b[0m         handle \u001b[39m=\u001b[39m \u001b[39mopen\u001b[39;49m(handle, ioargs\u001b[39m.\u001b[39;49mmode)\n\u001b[0;32m    796\u001b[0m     handles\u001b[39m.\u001b[39mappend(handle)\n\u001b[0;32m    798\u001b[0m \u001b[39m# Convert BytesIO or file objects passed with an encoding\u001b[39;00m\n",
      "\u001b[1;31mFileNotFoundError\u001b[0m: [Errno 2] No such file or directory: 'tcia-diagnosis-data-2012-04-20.xls'"
     ]
    }
   ],
   "source": [
    "df_classified = pd.read_excel(\"tcia-diagnosis-data-2012-04-20.xls\")\n",
    "classified_examples_list = df_classified.iloc[:, 0].to_list()\n",
    "\n",
    "df_annotations = pd.read_csv(\"LabIACD Project 1/LabIACD-Project-1/Data/features.csv\")\n",
    "classified_examples_annotations_df = df_annotations[df_annotations[\"patient_id\"].isin(classified_examples_list)].iloc[:, [0,6]]\n",
    "\n",
    "classified_examples_annotations_dict = {}\n",
    "for patient_id in classified_examples_list:\n",
    "    annotation_ids = classified_examples_annotations_df[classified_examples_annotations_df[\"patient_id\"] == patient_id].iloc[:,1].to_list()\n",
    "    if len(annotation_ids) > 0:\n",
    "        classified_examples_annotations_dict[patient_id] = annotation_ids\n",
    "\n",
    "for p_id, ann_id in classified_examples_annotations_dict.items():\n",
    "    print(f\"{p_id}: {ann_id}\")\n",
    "\n",
    "with open(\"classified_examples_annotations_dict.pkl\", \"wb\") as file:\n",
    "    pickle.dump(classified_examples_annotations_dict, file)\n",
    "\n",
    "classified_examples_annotations_df"
   ]
  },
  {
   "cell_type": "code",
   "execution_count": null,
   "metadata": {},
   "outputs": [],
   "source": [
    "def get_max_frame_size(patients_annotations_dict: dict[str, list[int]]):\n",
    "    height_max = width_max = 0\n",
    "\n",
    "    for index, pid in enumerate(patients_annotations_dict.keys()):\n",
    "        scan = pl.query(pl.Scan).filter(pl.Scan.patient_id == pid).first()\n",
    "        print(f\"At scan {index+1} / {len(patients_annotations_dict)}\")\n",
    "\n",
    "        for a in scan.annotations:\n",
    "            bbox = a.bbox()\n",
    "            height, width, _ = a.scan.to_volume(verbose=False)[bbox].shape\n",
    "            height_max = max(height_max, height)\n",
    "            width_max = max(width_max, width)\n",
    "    \n",
    "    # preventing from height_max and width_max being odd values\n",
    "    if height_max%2 == 1: height_max += 1\n",
    "    if width_max%2 == 1: width_max += 1\n",
    "    return height_max, width_max"
   ]
  },
  {
   "cell_type": "code",
   "execution_count": null,
   "metadata": {},
   "outputs": [],
   "source": [
    "def get_zoomed_out_bbox(cur_bbox, i_range, j_range):\n",
    "    i_middle = cur_bbox[0].start + (cur_bbox[0].stop - cur_bbox[0].start) // 2\n",
    "    j_middle = cur_bbox[1].start + (cur_bbox[1].stop - cur_bbox[1].start) // 2\n",
    "\n",
    "    i_slice_limits = [i_middle - i_range//2, i_middle + i_range//2]\n",
    "    j_slice_limits = [j_middle - j_range//2, j_middle + j_range//2]\n",
    "\n",
    "    if i_slice_limits[0] < 0:\n",
    "        i_slice_limits[1] += -1*i_slice_limits[0]\n",
    "        i_slice_limits[0] = 0\n",
    "    \n",
    "    if j_slice_limits[0] < 0:\n",
    "        j_slice_limits[1] += -1*j_slice_limits[0]\n",
    "        j_slice_limits[0] = 0\n",
    "\n",
    "    if i_slice_limits[1] >= 512:\n",
    "        i_slice_limits[0] -= i_slice_limits[1]-512\n",
    "        i_slice_limits[1] = 511\n",
    "    \n",
    "    if j_slice_limits[1] >= 512:\n",
    "        j_slice_limits[0] -= j_slice_limits[1]-512\n",
    "        j_slice_limits[1] = 511\n",
    "\n",
    "    i_slice = slice(i_slice_limits[0], i_slice_limits[1], None)\n",
    "    j_slice = slice(j_slice_limits[0], j_slice_limits[1], None)\n",
    "\n",
    "    return (i_slice, j_slice, cur_bbox[2])"
   ]
  },
  {
   "cell_type": "code",
   "execution_count": null,
   "metadata": {},
   "outputs": [],
   "source": [
    "# saves the masked version of the nodules with thei respecitve annotations\n",
    "# also saves a csv table with columns \"Patiend_ID\" \"Annotation_ID\" and \"Masked_Image_Path\"\n",
    "def get_masked_nodules_pictures(patients_annotations_dict: dict[str, list[int]], frame_height=100, frame_width=100):\n",
    "    df = []\n",
    "    \n",
    "    for index, pid in enumerate(patients_annotations_dict.keys()):\n",
    "\n",
    "        print(f\"Current Patient: {pid} | {index+1}/{len(patients_annotations_dict)}\")\n",
    "        scan = pl.query(pl.Scan).filter(pl.Scan.patient_id == pid).first()\n",
    "        ann_list = patients_annotations_dict[pid]\n",
    "\n",
    "        for ann_i, annotation in enumerate(scan.annotations):\n",
    "            \n",
    "            bbox = get_zoomed_out_bbox(annotation.bbox(), frame_height, frame_width)\n",
    "            bbox_np = np.array([[row.start, row.stop] for row in bbox])\n",
    "            vol = annotation.scan.to_volume(verbose=False)\n",
    "            mask = annotation.boolean_mask(bbox=bbox_np)\n",
    "            z = math.floor(vol[bbox].shape[2] / 2) \n",
    "            mask_map = np.array(mask[:,:,z])\n",
    "            masked_image = np.array(vol[bbox][:,:,z]) \n",
    "            \n",
    "            # modifying the original image such that:\n",
    "            #     if mask_map[i][j] == False --> image[i][j] = black\n",
    "            #     if mask_map[i][j] == True  --> image[i][j] is preserved\n",
    "            for i in range(len(mask_map)-1):\n",
    "                for j in range(len(mask_map[0])-1):\n",
    "                    if mask_map[i][j] == False:\n",
    "                        masked_image[i][j] = -1000 # black color value\n",
    "            \n",
    "            masked_image_path = f\"masked_images/annotation-{ann_list[ann_i]}.png\"\n",
    "            mpimg.imsave(masked_image_path, masked_image, cmap=\"gray\")\n",
    "            df.append({\"patient_id\": pid, \"annotation_id\": ann_list[ann_i], \"masked_imagepPath\": masked_image_path})\n",
    "    \n",
    "    with open(\"masked_images_dict.pkl\", \"wb\") as save_df:\n",
    "        pickle.dump(df, save_df)\n",
    "\n",
    "    print(\"Finished masking!\")"
   ]
  },
  {
   "cell_type": "code",
   "execution_count": null,
   "metadata": {},
   "outputs": [],
   "source": [
    "classified_examples_annotations_dict = dict()\n",
    "with open(\"classified_examples_annotations_dict.pkl\", \"rb\") as pid_list:\n",
    "    classified_examples_annotations_dict = pickle.load(pid_list)"
   ]
  },
  {
   "cell_type": "code",
   "execution_count": null,
   "metadata": {},
   "outputs": [],
   "source": [
    "height, width = get_max_frame_size(classified_examples_annotations_dict)\n",
    "print(f\"The images will have size [{width}]x[{height}] pixels\")"
   ]
  },
  {
   "cell_type": "code",
   "execution_count": null,
   "metadata": {},
   "outputs": [],
   "source": [
    "get_masked_nodules_pictures(classified_examples_annotations_dict, height, width)"
   ]
  },
  {
   "cell_type": "code",
   "execution_count": null,
   "metadata": {},
   "outputs": [],
   "source": [
    "df_dicts = list()\n",
    "with open(\"masked_images_dict.pkl\", \"rb\") as dicts:\n",
    "    df_dicts = pickle.load(dicts)\n",
    "\n",
    "df = pd.DataFrame(df_dicts, columns=[\"Patient_ID\", \"Annotation_ID\", \"Masked_Image_Path\"])\n",
    "df.to_csv(\"masked_annotation_images.csv\")"
   ]
  }
 ],
 "metadata": {
  "kernelspec": {
   "display_name": "ML2",
   "language": "python",
   "name": "python3"
  },
  "language_info": {
   "codemirror_mode": {
    "name": "ipython",
    "version": 3
   },
   "file_extension": ".py",
   "mimetype": "text/x-python",
   "name": "python",
   "nbconvert_exporter": "python",
   "pygments_lexer": "ipython3",
   "version": "3.8.18"
  }
 },
 "nbformat": 4,
 "nbformat_minor": 2
}
